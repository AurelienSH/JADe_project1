{
 "cells": [
  {
   "attachments": {},
   "cell_type": "markdown",
   "metadata": {},
   "source": [
    "# Summarization"
   ]
  },
  {
   "cell_type": "code",
   "execution_count": 2,
   "metadata": {},
   "outputs": [],
   "source": [
    "from transformers import pipeline"
   ]
  },
  {
   "cell_type": "code",
   "execution_count": 3,
   "metadata": {},
   "outputs": [],
   "source": [
    "# summarizer = pipeline(\"summarization\", model = \"google/pegasus-xsum\")\n",
    "# summarizer = pipeline(\"summarization\", model=\"lidiya/bart-large-xsum-samsum\") # Entraînés sur des conversations Messenger\n",
    "# summarizer = pipeline(\"summarization\", model = \"pszemraj/long-t5-tglobal-base-16384-book-summary\")\n",
    "summarizer = pipeline(\"summarization\", model = \"facebook/bart-large\")"
   ]
  },
  {
   "cell_type": "code",
   "execution_count": 6,
   "metadata": {},
   "outputs": [
    {
     "data": {
      "text/plain": [
       "\"Mary Santiago, a high school senior aspiring to become a dancer, was adopted by washed-up pop star Dominique Blatt, because her deceased mother was one of Dominique's dancers. Joey Parker, a famous celebrity and pop star, has returned to school for his senior year and to remember why he started dancing, accompanied by his best friend, Dustin/The Funk. He is also hosting a dance contest where the winner will be his partner in his next music video.[1] It is revealed that Natalia is determined to get back together with him. While in school, Mary and her best friend Tami are bullied\""
      ]
     },
     "execution_count": 6,
     "metadata": {},
     "output_type": "execute_result"
    }
   ],
   "source": [
    "detailed_plot = \"\"\"\n",
    "Mary Santiago, a high school senior aspiring to become a dancer, was adopted by washed-up pop star Dominique Blatt, because her deceased mother was one of Dominique's dancers. At home, Dominique and her snobby daughters Britt and Bree treat Mary as a slave. While in school, Mary and her best friend Tami are bullied by Britt, Bree, and Joey Parker's ex-girlfriend, Natalia Faroush. Joey Parker, a famous celebrity and pop star, has returned to school for his senior year and to remember why he started dancing, accompanied by his best friend, Dustin/The Funk. He is also hosting a dance contest where the winner will be his partner in his next music video.[1] It is revealed that Natalia is determined to get back together with him.\n",
    "\n",
    "Joey hosts a dance class that Natalia, Britt, and Bree attend. Mary sneaks behind the one-way mirror and is the only one able to match his moves, but her cell phone rings and she flees. Later, Dominique, hoping to revitalize her career, asks Joey to perform a duet with her while Britt and Bree hit on him, but he refuses and brings up a time Dominique insulted him on TRL.\n",
    "\n",
    "The school holds a masquerade ball on Valentine's Day, but Dominique plans to go partying and orders Mary to clean her room by midnight. Fortunately, Tami contacts her sister's boyfriend's family, who owns a cleaning service; and offers to help. Tami provides them with outfits for the ball. Joey and Mary stun everyone with their skills, but Britt and Bree spill a bowl of M&M's and Mary falls. Joey helps Mary up and takes his mask off, shocking her. Mary notices a clock and realizes she has fifteen minutes before Dominique arrives. She accidentally drops her Zune, but returns home just in time.\n",
    "\n",
    "The next day, Joey announces to the school that he has the Zune, saying whoever can announce the top four most played songs is the mystery girl. A bunch of girls (and a few boys) get in line and try to do it, obviously failing. Britt and Bree conclude Mary is the mystery girl and threatens to release an embarrassing video she made when she was eleven, if she tries to tell Joey. Tami convinces her not to care about that, and she tries to tell him, but he blows her off.\n",
    "\n",
    "At Britt and Bree's birthday party, Dustin recognizes Tami as his dance partner and flirts with her having proved his identity. Mary tries to tell Joey again, but Britt and Bree play the video. Embarrassed, Mary runs to her room. She plays the song from the ball. Joey realizes she was the mystery girl and asks her on a date. Later, Mary receives a letter saying she has been accepted by the Manhattan Academy of Performing Arts, but when the academy calls to confirm it, Dominique answers and claims Mary has \"two broken legs\".\n",
    "\n",
    "Attempting to stop the date, Britt and Bree give Mary a ridiculous number of chores, but this backfires when Joey helps her by dancing through them. She helps him write his next song. He \"invites\" her to his house, but when she arrives, she sees through the window, Natalia talking to Joey in bed and runs off in tears. Dominique insincerely comforts her and claims the academy rejected her.\n",
    "\n",
    "Joey is confused when she gives him the cold shoulder. Dustin confronts Tami, who berates Joey for cheating on Mary. They clarify Natalia broke into his house to drive Mary away. Tami agrees to help them. The dance contest is near, and Tami and Dustin convince a still bitter Mary to attend. A Manhattan Academy representative is there at Joey's invitation. After Britt, Bree, and Natalia put on lackluster performances, Joey calls Mary to the stage and convinces her to dance with him. The duo performs the song they wrote. Joey admits that there's nothing going on between him and Natalia. Mary wins the contest and Natalia admits Mary did great. The representative reveals Dominique's lie and says Mary is accepted. Joey and Mary kiss. Dominique tries to leave the stage and falls, ironically breaking both of her legs.\n",
    "\n",
    "As Mary, Joey, Tami, and Dustin load Mary's belongings in a van, a wheelchair-using Dominique begs her not to go as Joey and Mary share another kiss and drive away.\n",
    "\"\"\"\n",
    "    \n",
    "summary = summarizer(detailed_plot)\n",
    "summary"
   ]
  }
 ],
 "metadata": {
  "kernelspec": {
   "display_name": ".venvInterfacesWeb",
   "language": "python",
   "name": "python3"
  },
  "language_info": {
   "codemirror_mode": {
    "name": "ipython",
    "version": 3
   },
   "file_extension": ".py",
   "mimetype": "text/x-python",
   "name": "python",
   "nbconvert_exporter": "python",
   "pygments_lexer": "ipython3",
   "version": "3.10.10"
  },
  "orig_nbformat": 4,
  "vscode": {
   "interpreter": {
    "hash": "8172e316bb81455ff425ae5375aee13e01f8905b8849994d7fef01059d57c8c1"
   }
  }
 },
 "nbformat": 4,
 "nbformat_minor": 2
}
