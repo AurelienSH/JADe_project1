{
 "cells": [
  {
   "attachments": {},
   "cell_type": "markdown",
   "metadata": {},
   "source": [
    "# Backtranslation\n",
    "\n",
    "Traduire un texte dans une langue target puis retraduire dans la langue source pour obtenir une variante du texte."
   ]
  },
  {
   "cell_type": "code",
   "execution_count": 8,
   "metadata": {},
   "outputs": [],
   "source": [
    "from transformers import pipeline\n",
    "\n",
    "from typing import List, Dict"
   ]
  },
  {
   "attachments": {},
   "cell_type": "markdown",
   "metadata": {},
   "source": [
    "## Backtranslation avec MarianMT"
   ]
  },
  {
   "attachments": {},
   "cell_type": "markdown",
   "metadata": {},
   "source": [
    "Les résultats sont plutôt bons mais il n'y a pas beaucoup de variation : quelques mots changent mais c'est tout. Il faudrait peut-être en introduire avec genre des synonymes ou des masques."
   ]
  },
  {
   "cell_type": "code",
   "execution_count": 2,
   "metadata": {},
   "outputs": [],
   "source": [
    "# Chargement des pipelines\n",
    "mt_translator = pipeline(\"translation_en_to_fr\", model = \"Helsinki-NLP/opus-mt-en-fr\")\n",
    "mt_backtranslator = pipeline(\"translation_fr_to_en\", model = \"Helsinki-NLP/opus-mt-fr-en\")"
   ]
  },
  {
   "cell_type": "code",
   "execution_count": 7,
   "metadata": {},
   "outputs": [],
   "source": [
    "def backtranslate(input: str, translator, backtranslator, k = 2) -> List[str]:\n",
    "    \"\"\"Backtranslate un `input`.\n",
    "    \n",
    "    L'`input` est traduit avec le `translator` dans une langue cible et est ensuite\n",
    "    retraduit de la langue cible à la langue source avec `backtranslator`. Pour un `input`,\n",
    "    on obtient `k` backtranslations.\n",
    "\n",
    "    Args:\n",
    "        input (str): l'input à backtranslate\n",
    "        translator (TranslationPipeline): pipeline pour traduire de la langue source à la langue cible\n",
    "        backtranslator (TranslationPipeline): pipeline pour traduire de la langue cible à la langue source\n",
    "        k (int, optional): le nombre de backtranslations à renvoyer. Par défaut 2.\n",
    "\n",
    "    Returns:\n",
    "        List[str]: les backtranslations de l'input sous la forme d'une liste de strings\n",
    "    \"\"\"\n",
    "    translated = translator(input, max_length=1000)[0][\"translation_text\"]\n",
    "    backtranslations = backtranslator(translated, max_length=1000, num_return_sequences=k)\n",
    "    return [synopsis[\"translation_text\"] for synopsis in backtranslations]"
   ]
  },
  {
   "cell_type": "code",
   "execution_count": 9,
   "metadata": {},
   "outputs": [
    {
     "data": {
      "text/plain": [
       "[\"Mike, after leaving a psychiatric hospital, teamed up with his old friend Reggie to track down the Tall Man, who is there again. A mysterious and beautiful girl has also become part of Mike's dreams, and they have to find her before the Tall Man.\",\n",
       " \"Mike, after leaving a psychiatric hospital, teamed up with his old friend Reggie to track down the Tall Man, who is there again. A mysterious and beautiful girl also became part of Mike's dreams, and they must find her before the Tall Man.\"]"
      ]
     },
     "execution_count": 9,
     "metadata": {},
     "output_type": "execute_result"
    }
   ],
   "source": [
    "synopsis = \"\"\"\n",
    "    Mike, after his release from a psychiatric hospital, teams up with his old pal Reggie to hunt down the Tall Man, who is at it again. A mysterious, beautiful girl has also become part of Mike's dreams, and they must find her before the Tall Man does.\n",
    "\"\"\"\n",
    "\n",
    "backtranslations = backtranslate(synopsis, translator=mt_translator, backtranslator=mt_backtranslator)\n",
    "backtranslations"
   ]
  }
 ],
 "metadata": {
  "kernelspec": {
   "display_name": ".venvInterfacesWeb",
   "language": "python",
   "name": "python3"
  },
  "language_info": {
   "codemirror_mode": {
    "name": "ipython",
    "version": 3
   },
   "file_extension": ".py",
   "mimetype": "text/x-python",
   "name": "python",
   "nbconvert_exporter": "python",
   "pygments_lexer": "ipython3",
   "version": "3.10.10"
  },
  "orig_nbformat": 4,
  "vscode": {
   "interpreter": {
    "hash": "8172e316bb81455ff425ae5375aee13e01f8905b8849994d7fef01059d57c8c1"
   }
  }
 },
 "nbformat": 4,
 "nbformat_minor": 2
}
