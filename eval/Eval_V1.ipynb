{
 "cells": [
  {
   "cell_type": "code",
   "execution_count": 1,
   "id": "68571686",
   "metadata": {},
   "outputs": [],
   "source": [
    "import pickle\n",
    "with open(\"../app/models/sentence_similarity_model\", \"rb\") as f:\n",
    "    model_1 = pickle.load(f)"
   ]
  },
  {
   "cell_type": "code",
   "execution_count": 3,
   "id": "c2fad755",
   "metadata": {},
   "outputs": [],
   "source": [
    "import pandas as pd\n",
    "dataset = pd.read_csv(\"../Data/movie_synopsis.csv\")"
   ]
  },
  {
   "cell_type": "code",
   "execution_count": 36,
   "id": "3a58f174",
   "metadata": {},
   "outputs": [],
   "source": [
    "from sklearn.metrics.pairwise import cosine_distances,euclidean_distances\n",
    "def give_suggestion(user_input:str, model, k:int=5):\n",
    "    # on encode l'input de l'user avec le même modèle pour avoir un vecteur\n",
    "    embed_user = model.encode(user_input)\n",
    "    stock_similarity = []\n",
    "    stock_suggest_k = []\n",
    "    # on calcule les distances cosinus\n",
    "    for embed,title in total:\n",
    "        #result = (cosine_distances([embed],[embed_user]),title)\n",
    "        result = (euclidean_distances([embed],[embed_user]),title)\n",
    "        # elles sont stockés dans la liste sous forme de tuple contenant la distance cosinus et le titre\n",
    "        stock_similarity.append(result)\n",
    "    # on trie (ordre croissant) pour avoir le synopsis le plus proche de l'input de l'usr   \n",
    "    ma_liste_triee = sorted(stock_similarity, key=lambda x: x[0])\n",
    "    # afficher les premiers résultats etc - on peut changer cette partie en fonction de ce qu'on veut afficher \n",
    "    #(idem pour le return)\n",
    "    #for i, (x, y) in enumerate(ma_liste_triee[:5]):\n",
    "        #print(f\"Suggestion {i+1}: {y} - distance {x}\")\n",
    "        #stock_suggest_k.append(y)\n",
    "    return stock_similarity #ou stock_suggest_k ou stock_similarity[:k]"
   ]
  },
  {
   "cell_type": "code",
   "execution_count": 26,
   "id": "3c2099b2",
   "metadata": {},
   "outputs": [
    {
     "data": {
      "text/html": [
       "<div>\n",
       "<style scoped>\n",
       "    .dataframe tbody tr th:only-of-type {\n",
       "        vertical-align: middle;\n",
       "    }\n",
       "\n",
       "    .dataframe tbody tr th {\n",
       "        vertical-align: top;\n",
       "    }\n",
       "\n",
       "    .dataframe thead th {\n",
       "        text-align: right;\n",
       "    }\n",
       "</style>\n",
       "<table border=\"1\" class=\"dataframe\">\n",
       "  <thead>\n",
       "    <tr style=\"text-align: right;\">\n",
       "      <th></th>\n",
       "      <th>id</th>\n",
       "      <th>synopsis</th>\n",
       "      <th>title</th>\n",
       "    </tr>\n",
       "  </thead>\n",
       "  <tbody>\n",
       "    <tr>\n",
       "      <th>0</th>\n",
       "      <td>0</td>\n",
       "      <td>It's Ted the Bellhop's first night on the job....</td>\n",
       "      <td>Four Rooms</td>\n",
       "    </tr>\n",
       "    <tr>\n",
       "      <th>1</th>\n",
       "      <td>1</td>\n",
       "      <td>While racing to a boxing match, Frank, Mike, J...</td>\n",
       "      <td>Judgment Night</td>\n",
       "    </tr>\n",
       "    <tr>\n",
       "      <th>2</th>\n",
       "      <td>2</td>\n",
       "      <td>Timo Novotny labels his new project an experim...</td>\n",
       "      <td>Life in Loops (A Megacities RMX)</td>\n",
       "    </tr>\n",
       "    <tr>\n",
       "      <th>3</th>\n",
       "      <td>3</td>\n",
       "      <td>Princess Leia is captured and held hostage by ...</td>\n",
       "      <td>Star Wars</td>\n",
       "    </tr>\n",
       "    <tr>\n",
       "      <th>4</th>\n",
       "      <td>4</td>\n",
       "      <td>Nemo, an adventurous young clownfish, is unexp...</td>\n",
       "      <td>Finding Nemo</td>\n",
       "    </tr>\n",
       "  </tbody>\n",
       "</table>\n",
       "</div>"
      ],
      "text/plain": [
       "   id                                           synopsis  \\\n",
       "0   0  It's Ted the Bellhop's first night on the job....   \n",
       "1   1  While racing to a boxing match, Frank, Mike, J...   \n",
       "2   2  Timo Novotny labels his new project an experim...   \n",
       "3   3  Princess Leia is captured and held hostage by ...   \n",
       "4   4  Nemo, an adventurous young clownfish, is unexp...   \n",
       "\n",
       "                              title  \n",
       "0                        Four Rooms  \n",
       "1                    Judgment Night  \n",
       "2  Life in Loops (A Megacities RMX)  \n",
       "3                         Star Wars  \n",
       "4                      Finding Nemo  "
      ]
     },
     "execution_count": 26,
     "metadata": {},
     "output_type": "execute_result"
    }
   ],
   "source": [
    "dataset.head()"
   ]
  },
  {
   "cell_type": "code",
   "execution_count": 31,
   "id": "78ae0f6a",
   "metadata": {},
   "outputs": [],
   "source": [
    "syn_title = []\n",
    "for i in dataset.index:\n",
    "    syn_title.append(tuple((dataset[\"synopsis\"][i],dataset[\"title\"][i])))\n",
    "\n",
    "total = []\n",
    "for syn, title in syn_title:\n",
    "    emb = model_1.encode(syn)\n",
    "    total.append(tuple((emb,title)))"
   ]
  },
  {
   "cell_type": "code",
   "execution_count": 37,
   "id": "397217e9",
   "metadata": {},
   "outputs": [],
   "source": [
    "def eval(model):\n",
    "    value = 0\n",
    "    for syn, title in syn_title:\n",
    "        best = give_suggestion(syn, model)[0]\n",
    "        if best == title:\n",
    "            value += 1\n",
    "    return value/len(syn_title)\n",
    "         "
   ]
  },
  {
   "cell_type": "code",
   "execution_count": 38,
   "id": "ab84ed16",
   "metadata": {},
   "outputs": [
    {
     "data": {
      "text/plain": [
       "0.0"
      ]
     },
     "execution_count": 38,
     "metadata": {},
     "output_type": "execute_result"
    }
   ],
   "source": [
    "eval(model_1)"
   ]
  },
  {
   "cell_type": "code",
   "execution_count": null,
   "id": "26f2e5a2",
   "metadata": {},
   "outputs": [],
   "source": []
  },
  {
   "cell_type": "code",
   "execution_count": null,
   "id": "3ddfc2b6",
   "metadata": {},
   "outputs": [],
   "source": []
  },
  {
   "cell_type": "code",
   "execution_count": null,
   "id": "d59a8935",
   "metadata": {},
   "outputs": [],
   "source": []
  }
 ],
 "metadata": {
  "kernelspec": {
   "display_name": "Python 3 (ipykernel)",
   "language": "python",
   "name": "python3"
  },
  "language_info": {
   "codemirror_mode": {
    "name": "ipython",
    "version": 3
   },
   "file_extension": ".py",
   "mimetype": "text/x-python",
   "name": "python",
   "nbconvert_exporter": "python",
   "pygments_lexer": "ipython3",
   "version": "3.8.10"
  }
 },
 "nbformat": 4,
 "nbformat_minor": 5
}
