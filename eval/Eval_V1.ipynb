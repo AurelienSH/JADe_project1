{
 "cells": [
  {
   "cell_type": "code",
   "execution_count": 12,
   "outputs": [],
   "source": [
    "from sentence_transformers import SentenceTransformer\n",
    "import pickle\n",
    "import pandas as pd\n",
    "import sys\n",
    "\n",
    "# setting path\n",
    "sys.path.append('../app')\n",
    "\n",
    "from src.scripts.similarity import get_similar_works\n",
    "models_path = \"../app/models\"\n",
    "embeddings_path = \"../app/embeddings\"\n",
    "\n",
    "# Récupération du modèle non fine-tuné\n",
    "model_1 = SentenceTransformer(f\"{models_path}/sentence_similarity_model\")\n",
    "\n",
    "model_2 = SentenceTransformer(f\"{models_path}/sentence_similarity_model_FT\")\n",
    "\n",
    "dataset = pd.read_csv(\"../Data/movie_synopsis.csv\")\n",
    "\n",
    "with open(f\"{embeddings_path}/embeddings_corpus_movie\", \"rb\") as f:\n",
    "    embeddings = pickle.load(f)"
   ],
   "metadata": {
    "collapsed": false
   }
  },
  {
   "cell_type": "code",
   "execution_count": 13,
   "outputs": [],
   "source": [
    "def eval(model):\n",
    "    value = 0\n",
    "    for _, title, syn in embeddings:\n",
    "        best = get_similar_works(user_input= syn, oeuvres=embeddings, model=model_1)[0]['title']\n",
    "        if best == title:\n",
    "            value += 1\n",
    "        else:\n",
    "            print(f\"Confusion entre {title}, pris pour {best}\")\n",
    "    return value/len(embeddings)\n"
   ],
   "metadata": {
    "collapsed": false
   }
  },
  {
   "cell_type": "code",
   "execution_count": 14,
   "outputs": [
    {
     "ename": "KeyboardInterrupt",
     "evalue": "",
     "output_type": "error",
     "traceback": [
      "\u001B[0;31m---------------------------------------------------------------------------\u001B[0m",
      "\u001B[0;31mKeyboardInterrupt\u001B[0m                         Traceback (most recent call last)",
      "Cell \u001B[0;32mIn[14], line 1\u001B[0m\n\u001B[0;32m----> 1\u001B[0m \u001B[38;5;28;43meval\u001B[39;49m\u001B[43m(\u001B[49m\u001B[43mmodel_1\u001B[49m\u001B[43m)\u001B[49m\n",
      "Cell \u001B[0;32mIn[13], line 4\u001B[0m, in \u001B[0;36meval\u001B[0;34m(model)\u001B[0m\n\u001B[1;32m      2\u001B[0m value \u001B[38;5;241m=\u001B[39m \u001B[38;5;241m0\u001B[39m\n\u001B[1;32m      3\u001B[0m \u001B[38;5;28;01mfor\u001B[39;00m _, title, syn \u001B[38;5;129;01min\u001B[39;00m embeddings:\n\u001B[0;32m----> 4\u001B[0m     best \u001B[38;5;241m=\u001B[39m \u001B[43mget_similar_works\u001B[49m\u001B[43m(\u001B[49m\u001B[43muser_input\u001B[49m\u001B[38;5;241;43m=\u001B[39;49m\u001B[43m \u001B[49m\u001B[43msyn\u001B[49m\u001B[43m,\u001B[49m\u001B[43m \u001B[49m\u001B[43moeuvres\u001B[49m\u001B[38;5;241;43m=\u001B[39;49m\u001B[43membeddings\u001B[49m\u001B[43m,\u001B[49m\u001B[43m \u001B[49m\u001B[43mmodel\u001B[49m\u001B[38;5;241;43m=\u001B[39;49m\u001B[43mmodel_1\u001B[49m\u001B[43m)\u001B[49m[\u001B[38;5;241m0\u001B[39m][\u001B[38;5;124m'\u001B[39m\u001B[38;5;124mtitle\u001B[39m\u001B[38;5;124m'\u001B[39m]\n\u001B[1;32m      5\u001B[0m     \u001B[38;5;28;01mif\u001B[39;00m best \u001B[38;5;241m==\u001B[39m title:\n\u001B[1;32m      6\u001B[0m         value \u001B[38;5;241m+\u001B[39m\u001B[38;5;241m=\u001B[39m \u001B[38;5;241m1\u001B[39m\n",
      "File \u001B[0;32m~/Documents/JADe_project1/eval/../app/src/scripts/similarity.py:65\u001B[0m, in \u001B[0;36mget_similar_works\u001B[0;34m(user_input, oeuvres, model, k, distance_type)\u001B[0m\n\u001B[1;32m     59\u001B[0m \u001B[38;5;28;01mfor\u001B[39;00m (embedding_oeuvre, title, synopsis) \u001B[38;5;129;01min\u001B[39;00m oeuvres:\n\u001B[1;32m     60\u001B[0m \n\u001B[1;32m     61\u001B[0m     \u001B[38;5;66;03m# Création résultat sous la forme d'un tuple (distance, title, synopsis)\u001B[39;00m\n\u001B[1;32m     62\u001B[0m \n\u001B[1;32m     63\u001B[0m     \u001B[38;5;66;03m# Distance cosinus\u001B[39;00m\n\u001B[1;32m     64\u001B[0m     \u001B[38;5;28;01mif\u001B[39;00m distance_type \u001B[38;5;241m==\u001B[39m \u001B[38;5;124m\"\u001B[39m\u001B[38;5;124mcos\u001B[39m\u001B[38;5;124m\"\u001B[39m:\n\u001B[0;32m---> 65\u001B[0m         result \u001B[38;5;241m=\u001B[39m (\u001B[43mcosine_distances\u001B[49m\u001B[43m(\u001B[49m\u001B[43m[\u001B[49m\u001B[43membedding_oeuvre\u001B[49m\u001B[43m]\u001B[49m\u001B[43m,\u001B[49m\u001B[43m \u001B[49m\u001B[43m[\u001B[49m\u001B[43minput_encoded\u001B[49m\u001B[43m]\u001B[49m\u001B[43m)\u001B[49m, title, synopsis)\n\u001B[1;32m     67\u001B[0m     \u001B[38;5;66;03m# Distance euclidienne\u001B[39;00m\n\u001B[1;32m     68\u001B[0m     \u001B[38;5;28;01melif\u001B[39;00m distance_type \u001B[38;5;241m==\u001B[39m \u001B[38;5;124m\"\u001B[39m\u001B[38;5;124meucl\u001B[39m\u001B[38;5;124m\"\u001B[39m:\n",
      "File \u001B[0;32m/usr/local/lib/python3.10/site-packages/sklearn/metrics/pairwise.py:1000\u001B[0m, in \u001B[0;36mcosine_distances\u001B[0;34m(X, Y)\u001B[0m\n\u001B[1;32m    974\u001B[0m \u001B[38;5;250m\u001B[39m\u001B[38;5;124;03m\"\"\"Compute cosine distance between samples in X and Y.\u001B[39;00m\n\u001B[1;32m    975\u001B[0m \n\u001B[1;32m    976\u001B[0m \u001B[38;5;124;03mCosine distance is defined as 1.0 minus the cosine similarity.\u001B[39;00m\n\u001B[0;32m   (...)\u001B[0m\n\u001B[1;32m    997\u001B[0m \u001B[38;5;124;03mscipy.spatial.distance.cosine : Dense matrices only.\u001B[39;00m\n\u001B[1;32m    998\u001B[0m \u001B[38;5;124;03m\"\"\"\u001B[39;00m\n\u001B[1;32m    999\u001B[0m \u001B[38;5;66;03m# 1.0 - cosine_similarity(X, Y) without copy\u001B[39;00m\n\u001B[0;32m-> 1000\u001B[0m S \u001B[38;5;241m=\u001B[39m \u001B[43mcosine_similarity\u001B[49m\u001B[43m(\u001B[49m\u001B[43mX\u001B[49m\u001B[43m,\u001B[49m\u001B[43m \u001B[49m\u001B[43mY\u001B[49m\u001B[43m)\u001B[49m\n\u001B[1;32m   1001\u001B[0m S \u001B[38;5;241m*\u001B[39m\u001B[38;5;241m=\u001B[39m \u001B[38;5;241m-\u001B[39m\u001B[38;5;241m1\u001B[39m\n\u001B[1;32m   1002\u001B[0m S \u001B[38;5;241m+\u001B[39m\u001B[38;5;241m=\u001B[39m \u001B[38;5;241m1\u001B[39m\n",
      "File \u001B[0;32m/usr/local/lib/python3.10/site-packages/sklearn/metrics/pairwise.py:1399\u001B[0m, in \u001B[0;36mcosine_similarity\u001B[0;34m(X, Y, dense_output)\u001B[0m\n\u001B[1;32m   1397\u001B[0m     Y_normalized \u001B[38;5;241m=\u001B[39m X_normalized\n\u001B[1;32m   1398\u001B[0m \u001B[38;5;28;01melse\u001B[39;00m:\n\u001B[0;32m-> 1399\u001B[0m     Y_normalized \u001B[38;5;241m=\u001B[39m \u001B[43mnormalize\u001B[49m\u001B[43m(\u001B[49m\u001B[43mY\u001B[49m\u001B[43m,\u001B[49m\u001B[43m \u001B[49m\u001B[43mcopy\u001B[49m\u001B[38;5;241;43m=\u001B[39;49m\u001B[38;5;28;43;01mTrue\u001B[39;49;00m\u001B[43m)\u001B[49m\n\u001B[1;32m   1401\u001B[0m K \u001B[38;5;241m=\u001B[39m safe_sparse_dot(X_normalized, Y_normalized\u001B[38;5;241m.\u001B[39mT, dense_output\u001B[38;5;241m=\u001B[39mdense_output)\n\u001B[1;32m   1403\u001B[0m \u001B[38;5;28;01mreturn\u001B[39;00m K\n",
      "File \u001B[0;32m/usr/local/lib/python3.10/site-packages/sklearn/preprocessing/_data.py:1817\u001B[0m, in \u001B[0;36mnormalize\u001B[0;34m(X, norm, axis, copy, return_norm)\u001B[0m\n\u001B[1;32m   1814\u001B[0m \u001B[38;5;28;01melse\u001B[39;00m:\n\u001B[1;32m   1815\u001B[0m     \u001B[38;5;28;01mraise\u001B[39;00m \u001B[38;5;167;01mValueError\u001B[39;00m(\u001B[38;5;124m\"\u001B[39m\u001B[38;5;124m'\u001B[39m\u001B[38;5;132;01m%d\u001B[39;00m\u001B[38;5;124m'\u001B[39m\u001B[38;5;124m is not a supported axis\u001B[39m\u001B[38;5;124m\"\u001B[39m \u001B[38;5;241m%\u001B[39m axis)\n\u001B[0;32m-> 1817\u001B[0m X \u001B[38;5;241m=\u001B[39m \u001B[43mcheck_array\u001B[49m\u001B[43m(\u001B[49m\n\u001B[1;32m   1818\u001B[0m \u001B[43m    \u001B[49m\u001B[43mX\u001B[49m\u001B[43m,\u001B[49m\n\u001B[1;32m   1819\u001B[0m \u001B[43m    \u001B[49m\u001B[43maccept_sparse\u001B[49m\u001B[38;5;241;43m=\u001B[39;49m\u001B[43msparse_format\u001B[49m\u001B[43m,\u001B[49m\n\u001B[1;32m   1820\u001B[0m \u001B[43m    \u001B[49m\u001B[43mcopy\u001B[49m\u001B[38;5;241;43m=\u001B[39;49m\u001B[43mcopy\u001B[49m\u001B[43m,\u001B[49m\n\u001B[1;32m   1821\u001B[0m \u001B[43m    \u001B[49m\u001B[43mestimator\u001B[49m\u001B[38;5;241;43m=\u001B[39;49m\u001B[38;5;124;43m\"\u001B[39;49m\u001B[38;5;124;43mthe normalize function\u001B[39;49m\u001B[38;5;124;43m\"\u001B[39;49m\u001B[43m,\u001B[49m\n\u001B[1;32m   1822\u001B[0m \u001B[43m    \u001B[49m\u001B[43mdtype\u001B[49m\u001B[38;5;241;43m=\u001B[39;49m\u001B[43mFLOAT_DTYPES\u001B[49m\u001B[43m,\u001B[49m\n\u001B[1;32m   1823\u001B[0m \u001B[43m\u001B[49m\u001B[43m)\u001B[49m\n\u001B[1;32m   1824\u001B[0m \u001B[38;5;28;01mif\u001B[39;00m axis \u001B[38;5;241m==\u001B[39m \u001B[38;5;241m0\u001B[39m:\n\u001B[1;32m   1825\u001B[0m     X \u001B[38;5;241m=\u001B[39m X\u001B[38;5;241m.\u001B[39mT\n",
      "File \u001B[0;32m/usr/local/lib/python3.10/site-packages/sklearn/utils/validation.py:950\u001B[0m, in \u001B[0;36mcheck_array\u001B[0;34m(array, accept_sparse, accept_large_sparse, dtype, order, copy, force_all_finite, ensure_2d, allow_nd, ensure_min_samples, ensure_min_features, estimator, input_name)\u001B[0m\n\u001B[1;32m    947\u001B[0m \u001B[38;5;28;01mif\u001B[39;00m xp\u001B[38;5;241m.\u001B[39m\u001B[38;5;18m__name__\u001B[39m \u001B[38;5;129;01min\u001B[39;00m {\u001B[38;5;124m\"\u001B[39m\u001B[38;5;124mnumpy\u001B[39m\u001B[38;5;124m\"\u001B[39m, \u001B[38;5;124m\"\u001B[39m\u001B[38;5;124mnumpy.array_api\u001B[39m\u001B[38;5;124m\"\u001B[39m}:\n\u001B[1;32m    948\u001B[0m     \u001B[38;5;66;03m# only make a copy if `array` and `array_orig` may share memory`\u001B[39;00m\n\u001B[1;32m    949\u001B[0m     \u001B[38;5;28;01mif\u001B[39;00m np\u001B[38;5;241m.\u001B[39mmay_share_memory(array, array_orig):\n\u001B[0;32m--> 950\u001B[0m         array \u001B[38;5;241m=\u001B[39m \u001B[43m_asarray_with_order\u001B[49m\u001B[43m(\u001B[49m\n\u001B[1;32m    951\u001B[0m \u001B[43m            \u001B[49m\u001B[43marray\u001B[49m\u001B[43m,\u001B[49m\u001B[43m \u001B[49m\u001B[43mdtype\u001B[49m\u001B[38;5;241;43m=\u001B[39;49m\u001B[43mdtype\u001B[49m\u001B[43m,\u001B[49m\u001B[43m \u001B[49m\u001B[43morder\u001B[49m\u001B[38;5;241;43m=\u001B[39;49m\u001B[43morder\u001B[49m\u001B[43m,\u001B[49m\u001B[43m \u001B[49m\u001B[43mcopy\u001B[49m\u001B[38;5;241;43m=\u001B[39;49m\u001B[38;5;28;43;01mTrue\u001B[39;49;00m\u001B[43m,\u001B[49m\u001B[43m \u001B[49m\u001B[43mxp\u001B[49m\u001B[38;5;241;43m=\u001B[39;49m\u001B[43mxp\u001B[49m\n\u001B[1;32m    952\u001B[0m \u001B[43m        \u001B[49m\u001B[43m)\u001B[49m\n\u001B[1;32m    953\u001B[0m \u001B[38;5;28;01melse\u001B[39;00m:\n\u001B[1;32m    954\u001B[0m     \u001B[38;5;66;03m# always make a copy for non-numpy arrays\u001B[39;00m\n\u001B[1;32m    955\u001B[0m     array \u001B[38;5;241m=\u001B[39m _asarray_with_order(\n\u001B[1;32m    956\u001B[0m         array, dtype\u001B[38;5;241m=\u001B[39mdtype, order\u001B[38;5;241m=\u001B[39morder, copy\u001B[38;5;241m=\u001B[39m\u001B[38;5;28;01mTrue\u001B[39;00m, xp\u001B[38;5;241m=\u001B[39mxp\n\u001B[1;32m    957\u001B[0m     )\n",
      "File \u001B[0;32m/usr/local/lib/python3.10/site-packages/sklearn/utils/_array_api.py:186\u001B[0m, in \u001B[0;36m_asarray_with_order\u001B[0;34m(array, dtype, order, copy, xp)\u001B[0m\n\u001B[1;32m    183\u001B[0m \u001B[38;5;28;01mif\u001B[39;00m xp\u001B[38;5;241m.\u001B[39m\u001B[38;5;18m__name__\u001B[39m \u001B[38;5;129;01min\u001B[39;00m {\u001B[38;5;124m\"\u001B[39m\u001B[38;5;124mnumpy\u001B[39m\u001B[38;5;124m\"\u001B[39m, \u001B[38;5;124m\"\u001B[39m\u001B[38;5;124mnumpy.array_api\u001B[39m\u001B[38;5;124m\"\u001B[39m}:\n\u001B[1;32m    184\u001B[0m     \u001B[38;5;66;03m# Use NumPy API to support order\u001B[39;00m\n\u001B[1;32m    185\u001B[0m     array \u001B[38;5;241m=\u001B[39m numpy\u001B[38;5;241m.\u001B[39masarray(array, order\u001B[38;5;241m=\u001B[39morder, dtype\u001B[38;5;241m=\u001B[39mdtype)\n\u001B[0;32m--> 186\u001B[0m     \u001B[38;5;28;01mreturn\u001B[39;00m \u001B[43mxp\u001B[49m\u001B[38;5;241;43m.\u001B[39;49m\u001B[43masarray\u001B[49m\u001B[43m(\u001B[49m\u001B[43marray\u001B[49m\u001B[43m,\u001B[49m\u001B[43m \u001B[49m\u001B[43mcopy\u001B[49m\u001B[38;5;241;43m=\u001B[39;49m\u001B[43mcopy\u001B[49m\u001B[43m)\u001B[49m\n\u001B[1;32m    187\u001B[0m \u001B[38;5;28;01melse\u001B[39;00m:\n\u001B[1;32m    188\u001B[0m     \u001B[38;5;28;01mreturn\u001B[39;00m xp\u001B[38;5;241m.\u001B[39masarray(array, dtype\u001B[38;5;241m=\u001B[39mdtype, copy\u001B[38;5;241m=\u001B[39mcopy)\n",
      "\u001B[0;31mKeyboardInterrupt\u001B[0m: "
     ]
    }
   ],
   "source": [
    "eval(model_1)"
   ],
   "metadata": {
    "collapsed": false
   }
  },
  {
   "cell_type": "code",
   "execution_count": null,
   "outputs": [],
   "source": [
    "eval(model_2)"
   ],
   "metadata": {
    "collapsed": false
   }
  },
  {
   "cell_type": "code",
   "execution_count": null,
   "outputs": [],
   "source": [],
   "metadata": {
    "collapsed": false
   }
  }
 ],
 "metadata": {
  "kernelspec": {
   "display_name": "Python 3 (ipykernel)",
   "language": "python",
   "name": "python3"
  },
  "language_info": {
   "codemirror_mode": {
    "name": "ipython",
    "version": 3
   },
   "file_extension": ".py",
   "mimetype": "text/x-python",
   "name": "python",
   "nbconvert_exporter": "python",
   "pygments_lexer": "ipython3",
   "version": "3.10.10"
  }
 },
 "nbformat": 4,
 "nbformat_minor": 5
}
