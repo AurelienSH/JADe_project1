{
 "cells": [
  {
   "cell_type": "code",
   "execution_count": 23,
   "outputs": [],
   "source": [
    "import sys\n",
    "import subprocess\n",
    "import pkg_resources\n",
    "\n",
    "required = {'sentence-transformers','pandas'}\n",
    "installed = {pkg.key for pkg in pkg_resources.working_set}\n",
    "missing = required - installed\n",
    "\n",
    "if missing:\n",
    "    python = sys.executable\n",
    "    subprocess.check_call([python, '-m', 'pip', 'install', *missing], stdout=subprocess.DEVNULL)"
   ],
   "metadata": {
    "collapsed": false
   }
  },
  {
   "cell_type": "code",
   "execution_count": 8,
   "id": "68571686",
   "metadata": {},
   "outputs": [
    {
     "name": "stderr",
     "output_type": "stream",
     "text": [
      "No sentence-transformers model found with name ../app/models/sentence_similarity_model. Creating a new one with MEAN pooling.\n"
     ]
    },
    {
     "ename": "OSError",
     "evalue": "It looks like the config file at '../app/models/sentence_similarity_model' is not a valid JSON file.",
     "output_type": "error",
     "traceback": [
      "\u001B[0;31m---------------------------------------------------------------------------\u001B[0m",
      "\u001B[0;31mUnicodeDecodeError\u001B[0m                        Traceback (most recent call last)",
      "File \u001B[0;32m/usr/local/lib/python3.10/site-packages/transformers/configuration_utils.py:650\u001B[0m, in \u001B[0;36mPretrainedConfig._get_config_dict\u001B[0;34m(cls, pretrained_model_name_or_path, **kwargs)\u001B[0m\n\u001B[1;32m    648\u001B[0m \u001B[38;5;28;01mtry\u001B[39;00m:\n\u001B[1;32m    649\u001B[0m     \u001B[38;5;66;03m# Load config dict\u001B[39;00m\n\u001B[0;32m--> 650\u001B[0m     config_dict \u001B[38;5;241m=\u001B[39m \u001B[38;5;28;43mcls\u001B[39;49m\u001B[38;5;241;43m.\u001B[39;49m\u001B[43m_dict_from_json_file\u001B[49m\u001B[43m(\u001B[49m\u001B[43mresolved_config_file\u001B[49m\u001B[43m)\u001B[49m\n\u001B[1;32m    651\u001B[0m     config_dict[\u001B[38;5;124m\"\u001B[39m\u001B[38;5;124m_commit_hash\u001B[39m\u001B[38;5;124m\"\u001B[39m] \u001B[38;5;241m=\u001B[39m commit_hash\n",
      "File \u001B[0;32m/usr/local/lib/python3.10/site-packages/transformers/configuration_utils.py:737\u001B[0m, in \u001B[0;36mPretrainedConfig._dict_from_json_file\u001B[0;34m(cls, json_file)\u001B[0m\n\u001B[1;32m    736\u001B[0m \u001B[38;5;28;01mwith\u001B[39;00m \u001B[38;5;28mopen\u001B[39m(json_file, \u001B[38;5;124m\"\u001B[39m\u001B[38;5;124mr\u001B[39m\u001B[38;5;124m\"\u001B[39m, encoding\u001B[38;5;241m=\u001B[39m\u001B[38;5;124m\"\u001B[39m\u001B[38;5;124mutf-8\u001B[39m\u001B[38;5;124m\"\u001B[39m) \u001B[38;5;28;01mas\u001B[39;00m reader:\n\u001B[0;32m--> 737\u001B[0m     text \u001B[38;5;241m=\u001B[39m \u001B[43mreader\u001B[49m\u001B[38;5;241;43m.\u001B[39;49m\u001B[43mread\u001B[49m\u001B[43m(\u001B[49m\u001B[43m)\u001B[49m\n\u001B[1;32m    738\u001B[0m \u001B[38;5;28;01mreturn\u001B[39;00m json\u001B[38;5;241m.\u001B[39mloads(text)\n",
      "File \u001B[0;32m/usr/local/Cellar/python@3.10/3.10.10_1/Frameworks/Python.framework/Versions/3.10/lib/python3.10/codecs.py:322\u001B[0m, in \u001B[0;36mBufferedIncrementalDecoder.decode\u001B[0;34m(self, input, final)\u001B[0m\n\u001B[1;32m    321\u001B[0m data \u001B[38;5;241m=\u001B[39m \u001B[38;5;28mself\u001B[39m\u001B[38;5;241m.\u001B[39mbuffer \u001B[38;5;241m+\u001B[39m \u001B[38;5;28minput\u001B[39m\n\u001B[0;32m--> 322\u001B[0m (result, consumed) \u001B[38;5;241m=\u001B[39m \u001B[38;5;28;43mself\u001B[39;49m\u001B[38;5;241;43m.\u001B[39;49m\u001B[43m_buffer_decode\u001B[49m\u001B[43m(\u001B[49m\u001B[43mdata\u001B[49m\u001B[43m,\u001B[49m\u001B[43m \u001B[49m\u001B[38;5;28;43mself\u001B[39;49m\u001B[38;5;241;43m.\u001B[39;49m\u001B[43merrors\u001B[49m\u001B[43m,\u001B[49m\u001B[43m \u001B[49m\u001B[43mfinal\u001B[49m\u001B[43m)\u001B[49m\n\u001B[1;32m    323\u001B[0m \u001B[38;5;66;03m# keep undecoded input until the next call\u001B[39;00m\n",
      "\u001B[0;31mUnicodeDecodeError\u001B[0m: 'utf-8' codec can't decode byte 0x80 in position 0: invalid start byte",
      "\nDuring handling of the above exception, another exception occurred:\n",
      "\u001B[0;31mOSError\u001B[0m                                   Traceback (most recent call last)",
      "Cell \u001B[0;32mIn[8], line 6\u001B[0m\n\u001B[1;32m      3\u001B[0m embeddings_path \u001B[38;5;241m=\u001B[39m \u001B[38;5;124m\"\u001B[39m\u001B[38;5;124m../app/embeddings\u001B[39m\u001B[38;5;124m\"\u001B[39m\n\u001B[1;32m      5\u001B[0m \u001B[38;5;66;03m# Récupération du modèle non fine-tuné\u001B[39;00m\n\u001B[0;32m----> 6\u001B[0m model_1 \u001B[38;5;241m=\u001B[39m \u001B[43mSentenceTransformer\u001B[49m\u001B[43m(\u001B[49m\u001B[38;5;124;43mf\u001B[39;49m\u001B[38;5;124;43m\"\u001B[39;49m\u001B[38;5;132;43;01m{\u001B[39;49;00m\u001B[43mmodels_path\u001B[49m\u001B[38;5;132;43;01m}\u001B[39;49;00m\u001B[38;5;124;43m/sentence_similarity_model\u001B[39;49m\u001B[38;5;124;43m\"\u001B[39;49m\u001B[43m)\u001B[49m\n",
      "File \u001B[0;32m/usr/local/lib/python3.10/site-packages/sentence_transformers/SentenceTransformer.py:97\u001B[0m, in \u001B[0;36mSentenceTransformer.__init__\u001B[0;34m(self, model_name_or_path, modules, device, cache_folder, use_auth_token)\u001B[0m\n\u001B[1;32m     95\u001B[0m         modules \u001B[38;5;241m=\u001B[39m \u001B[38;5;28mself\u001B[39m\u001B[38;5;241m.\u001B[39m_load_sbert_model(model_path)\n\u001B[1;32m     96\u001B[0m     \u001B[38;5;28;01melse\u001B[39;00m:   \u001B[38;5;66;03m#Load with AutoModel\u001B[39;00m\n\u001B[0;32m---> 97\u001B[0m         modules \u001B[38;5;241m=\u001B[39m \u001B[38;5;28;43mself\u001B[39;49m\u001B[38;5;241;43m.\u001B[39;49m\u001B[43m_load_auto_model\u001B[49m\u001B[43m(\u001B[49m\u001B[43mmodel_path\u001B[49m\u001B[43m)\u001B[49m\n\u001B[1;32m     99\u001B[0m \u001B[38;5;28;01mif\u001B[39;00m modules \u001B[38;5;129;01mis\u001B[39;00m \u001B[38;5;129;01mnot\u001B[39;00m \u001B[38;5;28;01mNone\u001B[39;00m \u001B[38;5;129;01mand\u001B[39;00m \u001B[38;5;129;01mnot\u001B[39;00m \u001B[38;5;28misinstance\u001B[39m(modules, OrderedDict):\n\u001B[1;32m    100\u001B[0m     modules \u001B[38;5;241m=\u001B[39m OrderedDict([(\u001B[38;5;28mstr\u001B[39m(idx), module) \u001B[38;5;28;01mfor\u001B[39;00m idx, module \u001B[38;5;129;01min\u001B[39;00m \u001B[38;5;28menumerate\u001B[39m(modules)])\n",
      "File \u001B[0;32m/usr/local/lib/python3.10/site-packages/sentence_transformers/SentenceTransformer.py:806\u001B[0m, in \u001B[0;36mSentenceTransformer._load_auto_model\u001B[0;34m(self, model_name_or_path)\u001B[0m\n\u001B[1;32m    802\u001B[0m \u001B[38;5;250m\u001B[39m\u001B[38;5;124;03m\"\"\"\u001B[39;00m\n\u001B[1;32m    803\u001B[0m \u001B[38;5;124;03mCreates a simple Transformer + Mean Pooling model and returns the modules\u001B[39;00m\n\u001B[1;32m    804\u001B[0m \u001B[38;5;124;03m\"\"\"\u001B[39;00m\n\u001B[1;32m    805\u001B[0m logger\u001B[38;5;241m.\u001B[39mwarning(\u001B[38;5;124m\"\u001B[39m\u001B[38;5;124mNo sentence-transformers model found with name \u001B[39m\u001B[38;5;132;01m{}\u001B[39;00m\u001B[38;5;124m. Creating a new one with MEAN pooling.\u001B[39m\u001B[38;5;124m\"\u001B[39m\u001B[38;5;241m.\u001B[39mformat(model_name_or_path))\n\u001B[0;32m--> 806\u001B[0m transformer_model \u001B[38;5;241m=\u001B[39m \u001B[43mTransformer\u001B[49m\u001B[43m(\u001B[49m\u001B[43mmodel_name_or_path\u001B[49m\u001B[43m)\u001B[49m\n\u001B[1;32m    807\u001B[0m pooling_model \u001B[38;5;241m=\u001B[39m Pooling(transformer_model\u001B[38;5;241m.\u001B[39mget_word_embedding_dimension(), \u001B[38;5;124m'\u001B[39m\u001B[38;5;124mmean\u001B[39m\u001B[38;5;124m'\u001B[39m)\n\u001B[1;32m    808\u001B[0m \u001B[38;5;28;01mreturn\u001B[39;00m [transformer_model, pooling_model]\n",
      "File \u001B[0;32m/usr/local/lib/python3.10/site-packages/sentence_transformers/models/Transformer.py:28\u001B[0m, in \u001B[0;36mTransformer.__init__\u001B[0;34m(self, model_name_or_path, max_seq_length, model_args, cache_dir, tokenizer_args, do_lower_case, tokenizer_name_or_path)\u001B[0m\n\u001B[1;32m     25\u001B[0m \u001B[38;5;28mself\u001B[39m\u001B[38;5;241m.\u001B[39mconfig_keys \u001B[38;5;241m=\u001B[39m [\u001B[38;5;124m'\u001B[39m\u001B[38;5;124mmax_seq_length\u001B[39m\u001B[38;5;124m'\u001B[39m, \u001B[38;5;124m'\u001B[39m\u001B[38;5;124mdo_lower_case\u001B[39m\u001B[38;5;124m'\u001B[39m]\n\u001B[1;32m     26\u001B[0m \u001B[38;5;28mself\u001B[39m\u001B[38;5;241m.\u001B[39mdo_lower_case \u001B[38;5;241m=\u001B[39m do_lower_case\n\u001B[0;32m---> 28\u001B[0m config \u001B[38;5;241m=\u001B[39m \u001B[43mAutoConfig\u001B[49m\u001B[38;5;241;43m.\u001B[39;49m\u001B[43mfrom_pretrained\u001B[49m\u001B[43m(\u001B[49m\u001B[43mmodel_name_or_path\u001B[49m\u001B[43m,\u001B[49m\u001B[43m \u001B[49m\u001B[38;5;241;43m*\u001B[39;49m\u001B[38;5;241;43m*\u001B[39;49m\u001B[43mmodel_args\u001B[49m\u001B[43m,\u001B[49m\u001B[43m \u001B[49m\u001B[43mcache_dir\u001B[49m\u001B[38;5;241;43m=\u001B[39;49m\u001B[43mcache_dir\u001B[49m\u001B[43m)\u001B[49m\n\u001B[1;32m     29\u001B[0m \u001B[38;5;28mself\u001B[39m\u001B[38;5;241m.\u001B[39m_load_model(model_name_or_path, config, cache_dir)\n\u001B[1;32m     31\u001B[0m \u001B[38;5;28mself\u001B[39m\u001B[38;5;241m.\u001B[39mtokenizer \u001B[38;5;241m=\u001B[39m AutoTokenizer\u001B[38;5;241m.\u001B[39mfrom_pretrained(tokenizer_name_or_path \u001B[38;5;28;01mif\u001B[39;00m tokenizer_name_or_path \u001B[38;5;129;01mis\u001B[39;00m \u001B[38;5;129;01mnot\u001B[39;00m \u001B[38;5;28;01mNone\u001B[39;00m \u001B[38;5;28;01melse\u001B[39;00m model_name_or_path, cache_dir\u001B[38;5;241m=\u001B[39mcache_dir, \u001B[38;5;241m*\u001B[39m\u001B[38;5;241m*\u001B[39mtokenizer_args)\n",
      "File \u001B[0;32m/usr/local/lib/python3.10/site-packages/transformers/models/auto/configuration_auto.py:852\u001B[0m, in \u001B[0;36mAutoConfig.from_pretrained\u001B[0;34m(cls, pretrained_model_name_or_path, **kwargs)\u001B[0m\n\u001B[1;32m    850\u001B[0m kwargs[\u001B[38;5;124m\"\u001B[39m\u001B[38;5;124mname_or_path\u001B[39m\u001B[38;5;124m\"\u001B[39m] \u001B[38;5;241m=\u001B[39m pretrained_model_name_or_path\n\u001B[1;32m    851\u001B[0m trust_remote_code \u001B[38;5;241m=\u001B[39m kwargs\u001B[38;5;241m.\u001B[39mpop(\u001B[38;5;124m\"\u001B[39m\u001B[38;5;124mtrust_remote_code\u001B[39m\u001B[38;5;124m\"\u001B[39m, \u001B[38;5;28;01mFalse\u001B[39;00m)\n\u001B[0;32m--> 852\u001B[0m config_dict, unused_kwargs \u001B[38;5;241m=\u001B[39m \u001B[43mPretrainedConfig\u001B[49m\u001B[38;5;241;43m.\u001B[39;49m\u001B[43mget_config_dict\u001B[49m\u001B[43m(\u001B[49m\u001B[43mpretrained_model_name_or_path\u001B[49m\u001B[43m,\u001B[49m\u001B[43m \u001B[49m\u001B[38;5;241;43m*\u001B[39;49m\u001B[38;5;241;43m*\u001B[39;49m\u001B[43mkwargs\u001B[49m\u001B[43m)\u001B[49m\n\u001B[1;32m    853\u001B[0m \u001B[38;5;28;01mif\u001B[39;00m \u001B[38;5;124m\"\u001B[39m\u001B[38;5;124mauto_map\u001B[39m\u001B[38;5;124m\"\u001B[39m \u001B[38;5;129;01min\u001B[39;00m config_dict \u001B[38;5;129;01mand\u001B[39;00m \u001B[38;5;124m\"\u001B[39m\u001B[38;5;124mAutoConfig\u001B[39m\u001B[38;5;124m\"\u001B[39m \u001B[38;5;129;01min\u001B[39;00m config_dict[\u001B[38;5;124m\"\u001B[39m\u001B[38;5;124mauto_map\u001B[39m\u001B[38;5;124m\"\u001B[39m]:\n\u001B[1;32m    854\u001B[0m     \u001B[38;5;28;01mif\u001B[39;00m \u001B[38;5;129;01mnot\u001B[39;00m trust_remote_code:\n",
      "File \u001B[0;32m/usr/local/lib/python3.10/site-packages/transformers/configuration_utils.py:565\u001B[0m, in \u001B[0;36mPretrainedConfig.get_config_dict\u001B[0;34m(cls, pretrained_model_name_or_path, **kwargs)\u001B[0m\n\u001B[1;32m    563\u001B[0m original_kwargs \u001B[38;5;241m=\u001B[39m copy\u001B[38;5;241m.\u001B[39mdeepcopy(kwargs)\n\u001B[1;32m    564\u001B[0m \u001B[38;5;66;03m# Get config dict associated with the base config file\u001B[39;00m\n\u001B[0;32m--> 565\u001B[0m config_dict, kwargs \u001B[38;5;241m=\u001B[39m \u001B[38;5;28;43mcls\u001B[39;49m\u001B[38;5;241;43m.\u001B[39;49m\u001B[43m_get_config_dict\u001B[49m\u001B[43m(\u001B[49m\u001B[43mpretrained_model_name_or_path\u001B[49m\u001B[43m,\u001B[49m\u001B[43m \u001B[49m\u001B[38;5;241;43m*\u001B[39;49m\u001B[38;5;241;43m*\u001B[39;49m\u001B[43mkwargs\u001B[49m\u001B[43m)\u001B[49m\n\u001B[1;32m    566\u001B[0m \u001B[38;5;28;01mif\u001B[39;00m \u001B[38;5;124m\"\u001B[39m\u001B[38;5;124m_commit_hash\u001B[39m\u001B[38;5;124m\"\u001B[39m \u001B[38;5;129;01min\u001B[39;00m config_dict:\n\u001B[1;32m    567\u001B[0m     original_kwargs[\u001B[38;5;124m\"\u001B[39m\u001B[38;5;124m_commit_hash\u001B[39m\u001B[38;5;124m\"\u001B[39m] \u001B[38;5;241m=\u001B[39m config_dict[\u001B[38;5;124m\"\u001B[39m\u001B[38;5;124m_commit_hash\u001B[39m\u001B[38;5;124m\"\u001B[39m]\n",
      "File \u001B[0;32m/usr/local/lib/python3.10/site-packages/transformers/configuration_utils.py:653\u001B[0m, in \u001B[0;36mPretrainedConfig._get_config_dict\u001B[0;34m(cls, pretrained_model_name_or_path, **kwargs)\u001B[0m\n\u001B[1;32m    651\u001B[0m     config_dict[\u001B[38;5;124m\"\u001B[39m\u001B[38;5;124m_commit_hash\u001B[39m\u001B[38;5;124m\"\u001B[39m] \u001B[38;5;241m=\u001B[39m commit_hash\n\u001B[1;32m    652\u001B[0m \u001B[38;5;28;01mexcept\u001B[39;00m (json\u001B[38;5;241m.\u001B[39mJSONDecodeError, \u001B[38;5;167;01mUnicodeDecodeError\u001B[39;00m):\n\u001B[0;32m--> 653\u001B[0m     \u001B[38;5;28;01mraise\u001B[39;00m \u001B[38;5;167;01mEnvironmentError\u001B[39;00m(\n\u001B[1;32m    654\u001B[0m         \u001B[38;5;124mf\u001B[39m\u001B[38;5;124m\"\u001B[39m\u001B[38;5;124mIt looks like the config file at \u001B[39m\u001B[38;5;124m'\u001B[39m\u001B[38;5;132;01m{\u001B[39;00mresolved_config_file\u001B[38;5;132;01m}\u001B[39;00m\u001B[38;5;124m'\u001B[39m\u001B[38;5;124m is not a valid JSON file.\u001B[39m\u001B[38;5;124m\"\u001B[39m\n\u001B[1;32m    655\u001B[0m     )\n\u001B[1;32m    657\u001B[0m \u001B[38;5;28;01mif\u001B[39;00m is_local:\n\u001B[1;32m    658\u001B[0m     logger\u001B[38;5;241m.\u001B[39minfo(\u001B[38;5;124mf\u001B[39m\u001B[38;5;124m\"\u001B[39m\u001B[38;5;124mloading configuration file \u001B[39m\u001B[38;5;132;01m{\u001B[39;00mresolved_config_file\u001B[38;5;132;01m}\u001B[39;00m\u001B[38;5;124m\"\u001B[39m)\n",
      "\u001B[0;31mOSError\u001B[0m: It looks like the config file at '../app/models/sentence_similarity_model' is not a valid JSON file."
     ]
    }
   ],
   "source": [
    "from sentence_transformers import SentenceTransformer\n",
    "models_path = \"../app/models\"\n",
    "embeddings_path = \"../app/embeddings\"\n",
    "\n",
    "# Récupération du modèle non fine-tuné\n",
    "model_1 = SentenceTransformer(f\"{models_path}/sentence_similarity_model\")"
   ]
  },
  {
   "cell_type": "code",
   "execution_count": 11,
   "outputs": [],
   "source": [
    "import pickle\n",
    "\n",
    "with open(f\"{models_path}/sentence_similarity_model\", \"rb\") as f:\n",
    "    model_1 = pickle.load(f)\n",
    "\n",
    "with open(f\"{embeddings_path}/embeddings_corpus_movie\", \"rb\") as f:\n",
    "    embeddings = pickle.load(f)\n"
   ],
   "metadata": {
    "collapsed": false
   }
  },
  {
   "cell_type": "code",
   "execution_count": 38,
   "outputs": [
    {
     "data": {
      "text/plain": "(array([-7.36547336e-02, -8.33716523e-03,  2.25017332e-02,  1.21309720e-02,\n        -2.94153690e-02, -1.64633279e-03,  9.12407339e-02, -7.79220909e-02,\n        -8.19904322e-04, -6.69526756e-02, -3.97555484e-03,  1.16377622e-01,\n         2.04769801e-03,  4.15166747e-03, -5.63682690e-02, -5.42286560e-02,\n         8.86014998e-02, -3.58733051e-02,  3.63019854e-02, -1.30092399e-03,\n        -2.36679614e-02,  1.66973565e-02,  3.52966934e-02,  6.91928528e-03,\n        -5.88442374e-04, -2.42809914e-02,  5.23280799e-02, -5.54762967e-02,\n         1.05778659e-02, -3.43284607e-02,  1.72891561e-02,  4.21549343e-02,\n        -9.89390351e-03, -1.00955358e-02,  9.02638286e-02,  2.01865379e-02,\n         1.17654037e-02,  2.35742336e-04,  6.49118423e-02,  1.04181387e-01,\n         3.06899734e-02, -6.29894882e-02, -2.10242402e-02,  2.61254776e-02,\n        -7.93564096e-02,  5.52216684e-03, -2.53872033e-02, -3.42436433e-02,\n         4.90081348e-02, -5.43660372e-02,  5.62629336e-03,  6.00129589e-02,\n         6.93091080e-02, -3.52821685e-02, -1.02697089e-02, -1.55274058e-02,\n         6.00934513e-02,  8.75397027e-03,  1.10055637e-02,  2.94351298e-02,\n         2.29162304e-03, -7.68840266e-03,  3.68174203e-02,  1.05735278e-02,\n         1.46741681e-02,  3.20174471e-02, -1.07808165e-01,  2.89527178e-02,\n         5.59872277e-02, -2.56991144e-02,  2.90372334e-02,  4.36701886e-02,\n        -2.69404687e-02,  6.21760227e-02,  1.48759028e-02, -1.17333315e-01,\n        -2.34360006e-02, -4.12365831e-02,  2.07341253e-03,  2.61733234e-02,\n        -3.18654552e-02, -1.75496355e-01, -4.41737659e-02, -2.26339530e-02,\n        -2.38889102e-02, -1.81249890e-03, -4.02269550e-02,  1.85614042e-02,\n        -3.67143340e-02,  2.82131955e-02, -1.09031036e-01,  2.20199972e-02,\n        -5.75116612e-02, -1.53424619e-02,  1.37436353e-02,  3.65029275e-02,\n        -7.30401129e-02, -1.76613894e-03, -2.68261470e-02,  4.01818827e-02,\n         1.59879699e-02,  4.01330590e-02,  8.08828548e-02, -3.78706679e-02,\n         3.55438776e-02, -7.93142691e-02,  4.15164158e-02, -2.94450894e-02,\n         4.89189960e-02, -9.73755717e-02, -1.33421365e-02,  3.22646536e-02,\n         1.00197308e-01, -4.30298820e-02,  9.80847981e-03,  1.91726647e-02,\n         3.02760247e-02,  2.62418408e-02, -4.59401198e-02,  1.13308001e-02,\n         1.72156543e-01,  4.40889923e-03, -8.13239813e-02,  8.03554803e-02,\n        -8.22529793e-02, -2.10196991e-02,  6.63876683e-02, -2.81373105e-33,\n         3.36309522e-02,  9.18374211e-03, -2.73804590e-02,  2.29167826e-02,\n         1.48560762e-01,  6.85159415e-02, -8.29463229e-02, -3.70180085e-02,\n        -1.59435291e-02,  9.68114957e-02, -1.05427215e-02, -6.69534653e-02,\n        -2.56994348e-02, -7.80319348e-02, -6.08604625e-02,  4.05050665e-02,\n        -5.11429012e-02,  6.80487007e-02,  3.28505635e-02, -2.47930717e-02,\n         1.36587759e-02,  7.43990093e-02, -4.62667383e-02,  6.49859309e-02,\n        -5.80457449e-02,  2.82497890e-02,  4.91509102e-02,  4.37183119e-03,\n         1.27564520e-01,  1.66061579e-03, -3.18836160e-02,  1.38730183e-01,\n         2.67402194e-02,  7.24657774e-02, -1.60296056e-02, -2.11141165e-02,\n        -3.88311259e-02, -5.42361364e-02, -3.35525312e-02,  1.44420424e-02,\n        -6.64839819e-02,  4.71955389e-02, -2.48975307e-02,  4.04992104e-02,\n        -9.61858332e-02,  4.69044261e-02, -1.44166844e-02,  2.03537587e-02,\n         1.16147101e-01,  6.02649823e-02,  1.23676248e-02,  2.99366303e-02,\n         8.02659318e-02,  3.52572016e-02,  2.61396309e-03, -6.89459741e-02,\n         6.24768846e-02, -6.90401122e-02,  1.00067340e-01, -8.80107097e-03,\n         8.18349943e-02,  8.80588870e-03, -2.15026010e-02,  4.50616889e-03,\n         1.47295306e-02, -1.10571817e-01, -1.14183063e-02, -2.63935998e-02,\n         5.09359088e-05,  8.50969926e-03, -2.73167882e-02, -1.63072185e-03,\n        -4.42341752e-02, -6.46542236e-02, -6.29380578e-03, -4.95082606e-03,\n        -1.59380082e-02,  1.72441732e-02, -1.42010534e-02,  1.63058620e-02,\n         7.06395954e-02, -1.42514438e-03,  9.15845633e-02, -7.54211918e-02,\n        -3.93377356e-02,  4.75819670e-02, -1.25904838e-02, -3.07045560e-02,\n        -1.53997727e-02,  1.21104881e-01, -9.59463138e-03, -4.82147522e-02,\n         9.10783280e-03,  4.83833514e-02,  1.46971932e-02,  8.34175848e-35,\n        -1.23251993e-02, -4.33778577e-02, -5.99808842e-02, -4.60368535e-03,\n         7.38869607e-02, -3.16155478e-02, -7.61952847e-02, -2.04101596e-02,\n        -6.41327119e-03,  2.21854541e-02, -6.37216568e-02,  1.75083503e-02,\n         3.79547244e-04, -5.16742934e-03,  5.12110889e-02, -1.35159949e-02,\n         8.40990320e-02, -4.16844897e-03, -6.98346868e-02,  5.84444180e-02,\n         2.92538926e-02,  3.14604230e-02, -7.23514482e-02, -2.21203249e-02,\n        -6.01298138e-02,  7.99916834e-02,  6.61821142e-02,  6.07704706e-02,\n        -3.66961546e-02, -5.22358045e-02, -6.00159690e-02,  1.34347286e-02,\n         4.83776303e-03,  4.89010438e-02, -5.14828116e-02,  5.71335442e-02,\n        -9.24710825e-04,  3.97459492e-02, -4.05830182e-02, -5.32411560e-02,\n         1.16144679e-01, -4.67554703e-02, -3.71356085e-02,  1.66864507e-02,\n         1.04086334e-02, -7.44369552e-02, -8.75835791e-02, -3.11011598e-02,\n        -6.18117377e-02, -2.67995941e-03, -8.36898014e-02, -8.13324098e-03,\n        -8.08731541e-02, -3.49189229e-02, -1.14563033e-02, -1.25639429e-02,\n        -1.10738181e-01,  1.60267279e-02,  6.19876124e-02,  1.07300039e-02,\n         4.30833735e-02,  1.43389180e-02,  5.63568026e-02,  3.66775952e-02,\n        -4.46771160e-02,  1.92603562e-02,  4.63861749e-02, -4.89394506e-03,\n         4.61442284e-02,  2.51532234e-02,  4.04888839e-02,  4.14580740e-02,\n        -3.05884574e-02,  6.29072962e-03,  6.14481345e-02,  9.38958228e-02,\n        -2.13817712e-02,  6.42555393e-03, -7.51518011e-02, -4.93483245e-02,\n        -4.77501005e-03, -8.49198848e-02, -5.17367683e-02,  3.55444439e-02,\n        -8.56504962e-03,  3.63893062e-02,  6.87055513e-02,  5.01705743e-02,\n        -6.27386346e-02,  3.86972167e-02, -3.30154896e-02, -2.23955791e-03,\n        -2.83478424e-02,  5.01967641e-03,  2.89719384e-02, -3.39946915e-08,\n        -6.84914589e-02, -3.51764373e-02, -1.18634962e-01, -1.03819109e-01,\n         4.30431496e-03, -1.10303663e-01,  4.13050540e-02, -1.05624611e-04,\n        -6.27615154e-02,  2.01090109e-02,  1.98721997e-02, -1.70566197e-02,\n         9.68020856e-02, -2.89527047e-02,  3.32621746e-02,  2.90689170e-02,\n        -8.39966387e-02, -6.88184723e-02, -3.45204398e-02, -1.73524544e-02,\n         4.42562886e-02,  2.34531425e-02,  1.07684694e-01,  1.35682244e-03,\n         8.31927930e-04,  4.85011861e-02, -2.95985509e-02,  1.03259847e-01,\n         4.31002080e-02,  2.06507165e-02,  1.56706590e-02, -4.52013174e-03,\n        -5.69552258e-02, -3.21836062e-02, -3.33436839e-02,  9.70424153e-03,\n        -2.45883800e-02, -2.21764036e-02,  8.13649893e-02, -6.25116825e-02,\n        -3.41626927e-02, -5.70613332e-02, -6.26246333e-02,  6.30421191e-02,\n         1.19783916e-02, -3.84093039e-02, -7.19275605e-03,  3.31019498e-02,\n         2.51874309e-02,  1.75780002e-02, -5.48936613e-02, -3.61748897e-02,\n        -4.99880388e-02, -4.98850364e-03,  3.00448108e-02, -3.07063758e-02,\n        -4.07364639e-03, -2.84529310e-02, -3.67393792e-02, -2.11408101e-02,\n        -4.85621095e-02,  8.87340866e-03, -5.50277866e-02, -1.15308864e-02],\n       dtype=float32),\n 'Four Rooms',\n \"It's Ted the Bellhop's first night on the job...and the hotel's very unusual guests are about to place him in some outrageous predicaments. It seems that this evening's room service is serving up one unbelievable happening after another.\")"
     },
     "execution_count": 38,
     "metadata": {},
     "output_type": "execute_result"
    }
   ],
   "source": [
    "embeddings[0]"
   ],
   "metadata": {
    "collapsed": false
   }
  },
  {
   "cell_type": "code",
   "execution_count": 24,
   "outputs": [],
   "source": [
    "import pandas as pd\n",
    "dataset = pd.read_csv(\"../Data/movie_synopsis.csv\")"
   ],
   "metadata": {
    "collapsed": false
   }
  },
  {
   "cell_type": "code",
   "execution_count": 49,
   "id": "3a58f174",
   "metadata": {},
   "outputs": [],
   "source": [
    "from sklearn.metrics.pairwise import cosine_distances,euclidean_distances\n",
    "def give_suggestion(user_input:str, model, k:int=5):\n",
    "    # on encode l'input de l'user avec le même modèle pour avoir un vecteur\n",
    "    embed_user = model.encode(user_input)\n",
    "    stock_similarity = []\n",
    "    stock_suggest_k = []\n",
    "    # on calcule les distances cosinus\n",
    "    for embed,title,syn  in embeddings:\n",
    "        result = (cosine_distances([embed],[embed_user]),title)\n",
    "        #result = (euclidean_distances([embed],[embed_user]),title)\n",
    "        # elles sont stockés dans la liste sous forme de tuple contenant la distance cosinus et le titre\n",
    "        stock_similarity.append(result)\n",
    "    # on trie (ordre croissant) pour avoir le synopsis le plus proche de l'input de l'usr   \n",
    "    ma_liste_triee = sorted(stock_similarity, key=lambda x: x[0])\n",
    "    # afficher les premiers résultats etc - on peut changer cette partie en fonction de ce qu'on veut afficher \n",
    "    #(idem pour le return)\n",
    "    #for i, (x, y) in enumerate(ma_liste_triee[:5]):\n",
    "        #print(f\"Suggestion {i+1}: {y} - distance {x}\")\n",
    "        #stock_suggest_k.append(y)\n",
    "    return ma_liste_triee #ou stock_suggest_k ou stock_similarity[:k]"
   ]
  },
  {
   "cell_type": "code",
   "execution_count": 50,
   "id": "397217e9",
   "metadata": {},
   "outputs": [],
   "source": [
    "def eval(model):\n",
    "    value = 0\n",
    "    for _, title, syn in embeddings[:10]:\n",
    "        best = give_suggestion(syn, model)[0][1]\n",
    "        print(f\"best : {best}\")\n",
    "        print(f\"title : {title}\")\n",
    "        if best == title:\n",
    "            value += 1\n",
    "    return value/len(embeddings[:10])\n",
    "         "
   ]
  },
  {
   "cell_type": "code",
   "execution_count": 51,
   "id": "ab84ed16",
   "metadata": {},
   "outputs": [
    {
     "name": "stdout",
     "output_type": "stream",
     "text": [
      "best : Four Rooms\n",
      "title : Four Rooms\n",
      "best : Judgment Night\n",
      "title : Judgment Night\n",
      "best : Life in Loops (A Megacities RMX)\n",
      "title : Life in Loops (A Megacities RMX)\n",
      "best : Star Wars\n",
      "title : Star Wars\n",
      "best : Finding Nemo\n",
      "title : Finding Nemo\n",
      "best : Forrest Gump\n",
      "title : Forrest Gump\n",
      "best : American Beauty\n",
      "title : American Beauty\n",
      "best : Citizen Kane\n",
      "title : Citizen Kane\n",
      "best : Dancer in the Dark\n",
      "title : Dancer in the Dark\n",
      "best : The Dark\n",
      "title : The Dark\n"
     ]
    },
    {
     "data": {
      "text/plain": "1.0"
     },
     "execution_count": 51,
     "metadata": {},
     "output_type": "execute_result"
    }
   ],
   "source": [
    "eval(model_1)"
   ]
  },
  {
   "cell_type": "code",
   "execution_count": null,
   "outputs": [],
   "source": [],
   "metadata": {
    "collapsed": false
   }
  }
 ],
 "metadata": {
  "kernelspec": {
   "display_name": "Python 3 (ipykernel)",
   "language": "python",
   "name": "python3"
  },
  "language_info": {
   "codemirror_mode": {
    "name": "ipython",
    "version": 3
   },
   "file_extension": ".py",
   "mimetype": "text/x-python",
   "name": "python",
   "nbconvert_exporter": "python",
   "pygments_lexer": "ipython3",
   "version": "3.10.10"
  }
 },
 "nbformat": 4,
 "nbformat_minor": 5
}
