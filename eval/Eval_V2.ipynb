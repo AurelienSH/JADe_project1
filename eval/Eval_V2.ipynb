{
 "cells": [
  {
   "cell_type": "code",
   "execution_count": 45,
   "outputs": [],
   "source": [
    "import pickle\n",
    "import pandas as pd\n",
    "\n",
    "\n",
    "qp = \"queries/\"\n",
    "embeddings_path = \"../app/embeddings\"\n",
    "models_path = \"../app/models\"\n",
    "\n",
    "with open(f\"{embeddings_path}/embeddings_corpus_movie\", \"rb\") as f:\n",
    "    embeddings = pickle.load(f)\n",
    "\n",
    "with open(f\"{models_path}/sentence_similarity_model\", \"rb\") as f:\n",
    "    model_1 = pickle.load(f)"
   ],
   "metadata": {
    "collapsed": false
   }
  },
  {
   "cell_type": "code",
   "execution_count": 46,
   "outputs": [],
   "source": [
    "def read(typ):\n",
    "    return pd.read_csv(f\"{qp}{typ}.tsv\", sep=\"\\t\")"
   ],
   "metadata": {
    "collapsed": false
   }
  },
  {
   "cell_type": "code",
   "execution_count": 47,
   "metadata": {
    "collapsed": true
   },
   "outputs": [],
   "source": [
    "from sklearn.metrics.pairwise import cosine_distances,euclidean_distances\n",
    "def give_suggestion(user_input:str, model, k:int=5):\n",
    "    # on encode l'input de l'user avec le même modèle pour avoir un vecteur\n",
    "    embed_user = model.encode(user_input)\n",
    "    stock_similarity = []\n",
    "    stock_suggest_k = []\n",
    "    # on calcule les distances cosinus\n",
    "    for embed,title,syn  in embeddings:\n",
    "        result = (cosine_distances([embed],[embed_user]),title)\n",
    "        #result = (euclidean_distances([embed],[embed_user]),title)\n",
    "        # elles sont stockés dans la liste sous forme de tuple contenant la distance cosinus et le titre\n",
    "        stock_similarity.append(result)\n",
    "    # on trie (ordre croissant) pour avoir le synopsis le plus proche de l'input de l'usr\n",
    "    ma_liste_triee = sorted(stock_similarity, key=lambda x: x[0])[:10]\n",
    "    # afficher les premiers résultats etc - on peut changer cette partie en fonction de ce qu'on veut afficher\n",
    "    #(idem pour le return)\n",
    "    #for i, (x, y) in enumerate(ma_liste_triee[:5]):\n",
    "        #print(f\"Suggestion {i+1}: {y} - distance {x}\")\n",
    "        #stock_suggest_k.append(y)\n",
    "    return ma_liste_triee #ou stock_suggest_k ou stock_similarity[:k]"
   ]
  },
  {
   "cell_type": "code",
   "execution_count": 58,
   "outputs": [],
   "source": [
    "desc = read(\"desc\")\n",
    "\n",
    "syns = read(\"syns\")\n",
    "\n",
    "query = read(\"query\")\n",
    "\n",
    "dfs = {'descriptions':desc,'synopsis':syns,'queries':query}"
   ],
   "metadata": {
    "collapsed": false
   }
  },
  {
   "cell_type": "code",
   "execution_count": 61,
   "outputs": [],
   "source": [
    "def eval(typ,df):\n",
    "    score = 0\n",
    "    for index, row in df.iterrows():\n",
    "        title = row['title']\n",
    "        syn = row['synopsis']\n",
    "        suggestions = [res[1] for res in give_suggestion(syn, model_1)]\n",
    "        with open(f\"results/{typ}/{title}.txt\", \"w\") as f:\n",
    "            for res in suggestions:\n",
    "                print(res, file=f)\n",
    "        if title in suggestions:\n",
    "            score+=1\n",
    "    score = score/len(df)\n",
    "\n",
    "    return score\n"
   ],
   "metadata": {
    "collapsed": false
   }
  },
  {
   "cell_type": "code",
   "execution_count": 62,
   "outputs": [
    {
     "name": "stdout",
     "output_type": "stream",
     "text": [
      "0.2777777777777778\n",
      "0.5263157894736842\n",
      "0.47058823529411764\n"
     ]
    }
   ],
   "source": [
    "for k,df in dfs.items():\n",
    "    print(eval(k,df))"
   ],
   "metadata": {
    "collapsed": false
   }
  }
 ],
 "metadata": {
  "kernelspec": {
   "display_name": "Python 3",
   "language": "python",
   "name": "python3"
  },
  "language_info": {
   "codemirror_mode": {
    "name": "ipython",
    "version": 2
   },
   "file_extension": ".py",
   "mimetype": "text/x-python",
   "name": "python",
   "nbconvert_exporter": "python",
   "pygments_lexer": "ipython2",
   "version": "2.7.6"
  }
 },
 "nbformat": 4,
 "nbformat_minor": 0
}
