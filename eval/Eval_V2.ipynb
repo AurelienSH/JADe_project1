{
 "cells": [
  {
   "cell_type": "code",
   "execution_count": 15,
   "outputs": [],
   "source": [
    "from sentence_transformers import SentenceTransformer\n",
    "import pickle\n",
    "import pandas as pd\n",
    "import sys\n",
    "from os import path\n",
    "import os\n",
    "\n",
    "# setting path\n",
    "sys.path.append('../app')\n",
    "\n",
    "from src.scripts.similarity import get_similar_works\n",
    "\n",
    "models_path = \"../app/models\"\n",
    "embeddings_path = \"../app/embeddings\"\n",
    "qp = \"queries/\"\n",
    "\n",
    "# Récupération du modèle non fine-tuné\n",
    "model_1 = SentenceTransformer(f\"{models_path}/sentence_similarity_model\")\n",
    "\n",
    "model_2 = SentenceTransformer(f\"{models_path}/sentence_similarity_model_FT\")\n",
    "\n",
    "dataset = pd.read_csv(\"../Data/movie_synopsis.csv\")\n",
    "\n",
    "with open(f\"{embeddings_path}/embeddings_corpus_movie\", \"rb\") as f:\n",
    "    embeddings = pickle.load(f)"
   ],
   "metadata": {
    "collapsed": false
   }
  },
  {
   "cell_type": "code",
   "execution_count": 16,
   "outputs": [],
   "source": [
    "def read(typ):\n",
    "    return pd.read_csv(f\"{qp}{typ}.tsv\", sep=\"\\t\")"
   ],
   "metadata": {
    "collapsed": false
   }
  },
  {
   "cell_type": "code",
   "execution_count": 17,
   "outputs": [],
   "source": [
    "desc = read(\"desc\")\n",
    "\n",
    "syns = read(\"syns\")\n",
    "\n",
    "query = read(\"query\")\n",
    "\n",
    "dfs = {'descriptions':desc,'synopsis':syns,'queries':query}"
   ],
   "metadata": {
    "collapsed": false
   }
  },
  {
   "cell_type": "code",
   "execution_count": 26,
   "outputs": [],
   "source": [
    "def eval(typ,df, model, mpath):\n",
    "    score = 0\n",
    "    if not path.exists(f\"results/{mpath}\"):\n",
    "        os.mkdir(f\"results/{mpath}\")\n",
    "    for index, row in df.iterrows():\n",
    "        title = row['title']\n",
    "        syn = row['synopsis']\n",
    "        suggestions = [res['title'] for res in get_similar_works(user_input = syn, oeuvres = embeddings, model = model)]\n",
    "        if not path.exists(f\"results/{mpath}/{typ}\"):\n",
    "            os.mkdir(f\"results/{mpath}/{typ}\")\n",
    "        with open(f\"results/{mpath}/{typ}/{title}.txt\", \"w\") as f:\n",
    "            for res in suggestions:\n",
    "                print(res, file=f)\n",
    "        if title in suggestions:\n",
    "            score+=1\n",
    "    score = score/len(df)\n",
    "\n",
    "    return score\n"
   ],
   "metadata": {
    "collapsed": false
   }
  },
  {
   "cell_type": "code",
   "execution_count": 27,
   "outputs": [
    {
     "name": "stdout",
     "output_type": "stream",
     "text": [
      "['Date Movie', 'Faintheart', 'The Quiet American', \"Captain Corelli's Mandolin\", 'I Could Never Be Your Woman']\n",
      "['WordWorld: Rocket to the Moon', 'Little Monsters', 'The Adventures of Pinocchio', 'Nichts geht mehr', 'Baby Einstein: Neighborhood Animals']\n",
      "['10,000 BC', 'Big City', 'Antarctica', 'The Celestine Prophecy', 'Man in the Chair']\n",
      "['I Could Never Be Your Woman', 'Inkheart', 'Red Eye', 'The Man Who Knew Too Much', 'Date Movie']\n",
      "['Two Brothers', 'Alpha and Omega', 'Bambi', 'Legends of the Fall', 'Unstable Fables: Tortoise vs. Hare']\n",
      "['Animal Farm', 'Disney Princess Enchanted Tales: Follow Your Dreams', 'Bolero', \"A Midsummer Night's Dream\", 'Shrek 2']\n",
      "['Dragonslayer', 'The Truth About Demons', 'The Nutty Professor', 'House of Frankenstein', 'The Last Lear']\n",
      "['Bulletproof Monk', 'The Big Brawl', 'The Karate Kid', 'The Last Dragon', 'The Foot Fist Way']\n",
      "['Animal Farm', \"Pooh's Grand Adventure: The Search for Christopher Robin\", 'I Could Never Be Your Woman', 'Marley & Me', '10,000 BC']\n",
      "['Slither', 'Within the Woods', 'The Signal', 'The Hotel New Hampshire', \"Jane Austen's Mafia!\"]\n",
      "['The Lion King', 'Secondhand Lions', 'The Wild', 'Animal Farm', 'The Naked Prey']\n",
      "['Faintheart', 'Two Tigers', 'Gracie', 'Charlotte Gray', 'Red Sonja']\n",
      "['The Nutty Professor', 'Nichts geht mehr', \"Dr. Renault's Secret\", 'Harry Potter and the Goblet of Fire', 'The Wizard of Oz']\n",
      "['Charlie and the Chocolate Factory', 'The Brave Little Toaster', 'Legends of the Fall', 'Chocolat', 'The Go-Getter']\n",
      "['Message in a Bottle', 'The Notebook', 'Angel Eyes', 'Dedication', 'Bad Biology']\n",
      "['Cinderella II: Dreams Come True', 'Disney Princess Enchanted Tales: Follow Your Dreams', 'Sleeping Beauty', 'The Slipper and the Rose', 'Barbie of Swan Lake']\n",
      "['Dragon: The Bruce Lee Story', 'Kung Pow: Enter the Fist', 'Kung Fu Panda', 'Kung Fu Panda: Secrets of the Furious Five', 'Animal Farm']\n",
      "['Jurassic Park', '100 Million BC', 'The Lost World', 'The Land Before Time V: The Mysterious Island', 'Dinosaur']\n",
      "Score obtenu sur les synopsis de type descriptions : 0.2222222222222222\n",
      "['All Quiet on the Western Front', 'Alfie', 'The Best Years of Our Lives', 'Saw', 'The Jacket']\n",
      "['Kung Fu Panda', 'Bulletproof Monk', 'The Forbidden Kingdom', 'Dragon: The Bruce Lee Story', 'Kung Pow: Enter the Fist']\n",
      "['Like Minds', 'Menace II Society', '12 Angry Men', 'Too Young to Die?', '12 Angry Men']\n",
      "['The Last Mimzy', 'Toy Story 3', 'Pinocchio', 'The Brave Little Toaster', 'Baby Einstein: Neighborhood Animals']\n",
      "['Man in the Chair', 'Book of Shadows: Blair Witch 2', 'Salem Witch Trials', 'The Blair Thumb', 'Cut']\n",
      "['Scooby-Doo! and the Cyber Chase', 'DeVour', 'The Garbage Pail Kids Movie', 'The Gate', 'Stay Alive']\n",
      "['Red Eye', 'Taken', 'Witless Protection', \"Don't Say a Word\", 'Cat Ballou']\n",
      "['August Rush', 'The Little Drummer Boy', 'Purple Rain', 'Lost Highway', 'The Wild Parrots of Telegraph Hill']\n",
      "['The Quiet Earth', 'I Am Legend', 'Extreme Measures', 'Against the Dark', 'Enemy Mine']\n",
      "['The Lion King', 'The Wild', 'Secondhand Lions', 'The Chronicles of Narnia: Prince Caspian', 'Jason and the Argonauts']\n",
      "['Final Destination', 'The Pool', \"State's Evidence\", 'Kill Theory', 'The Deaths of Ian Stone']\n",
      "['The Jammed', 'Motor Psycho', 'The Hard Corps', 'The Joy Luck Club', 'Private Benjamin']\n",
      "['Charlie and the Chocolate Factory', 'Barcode', 'Stardust', 'Little Monsters', 'The Polar Express']\n",
      "[\"Harry Potter and the Philosopher's Stone\", 'The Wizard of Oz', 'The Craft', 'Harry Potter and the Goblet of Fire', 'The Exorcist']\n",
      "['The Return of Jafar', 'Frosty the Snowman', 'Stardust', 'Taoism Drunkard', 'Sleeping Beauty']\n",
      "['Dead Calm', 'Open Water 2: Adrift', 'Ocean of Dreams', 'Fling', 'Bitter Moon']\n",
      "['Jurassic Park', '100 Million BC', 'Sea Monsters: A Prehistoric Adventure', 'The Lost World: Jurassic Park', 'The Land Before Time']\n",
      "['The Good Son', 'Le Divorce', 'Coming to America', 'The Princess Diaries', 'Travels with My Aunt']\n",
      "['Kung Fu Panda', 'Bulletproof Monk', 'The Forbidden Kingdom', 'Dragon: The Bruce Lee Story', 'Street Fighter Alpha: Generations']\n",
      "Score obtenu sur les synopsis de type synopsis : 0.47368421052631576\n",
      "['Zoo', 'I Could Never Be Your Woman', 'The Deviants', 'Meat Love', 'Date Movie']\n",
      "['Animal Farm', 'The Brave Little Toaster', 'Toy Story 3', 'Barnyard', 'The Secret Adventures of Tom Thumb']\n",
      "['Here Be Dragons', 'Dragonquest', 'Frankenstein and Me', \"It's Alive: The True Story of Frankenstein\", 'Nichts geht mehr']\n",
      "['Taken', 'Cecil B. Demented', 'Red Eye', 'Six-Pack', 'Witless Protection']\n",
      "['100 Girls', 'Harlow', 'Nichts geht mehr', 'I Could Never Be Your Woman', 'Date Movie']\n",
      "['The Princess Diaries', 'I Could Never Be Your Woman', 'The Slipper and the Rose', 'Sleeping Beauty', 'Disney Princess Enchanted Tales: Follow Your Dreams']\n",
      "['Rules of Engagement', 'Homeward Bound: The Incredible Journey', 'Because of Winn-Dixie', 'The Hotel New Hampshire', 'Disaster Movie']\n",
      "['The Lion King', 'Secondhand Lions', 'The Wild', '10,000 BC', 'Born Free']\n",
      "['Two Tigers', 'A Thousand Years of Good Prayers', 'My Father the Hero', 'I Could Never Be Your Woman', 'Mulan']\n",
      "['Charlie and the Chocolate Factory', 'Flavors', 'Willy Wonka & the Chocolate Factory', 'The Brave Little Toaster', 'Nichts geht mehr']\n",
      "['Nichts geht mehr', 'Harry Potter and the Order of the Phoenix', 'Dark Ride', 'Elephant', 'The Craft']\n",
      "['The Return of Jafar', 'Sleeping Beauty', 'The Little Mermaid', 'Aladdin', \"A Midsummer Night's Dream\"]\n",
      "['Dead Calm', 'Ocean of Dreams', 'Meat Love', 'Angel Eyes', 'One Way Passage']\n",
      "['100 Million BC', 'The Lost World', 'Jurassic Park', 'Sea Monsters: A Prehistoric Adventure', 'The Land Before Time V: The Mysterious Island']\n",
      "['100 Girls', 'I Could Never Be Your Woman', 'The Princess Diaries', 'The Woods', 'Great Expectations']\n",
      "['Dragon: The Bruce Lee Story', 'Kung Pow: Enter the Fist', 'The Last Dragon', 'The Big Brawl', 'Big Stan']\n",
      "['I Could Never Be Your Woman', 'The Italian', 'The Brave Little Toaster', 'August Rush', 'Gloria']\n",
      "Score obtenu sur les synopsis de type queries : 0.47058823529411764\n"
     ]
    }
   ],
   "source": [
    "for k,df in dfs.items():\n",
    "    print(f\"Score obtenu sur les synopsis de type {k} : {eval(k,df, model_1, 'nonFT')}\")"
   ],
   "metadata": {
    "collapsed": false
   }
  },
  {
   "cell_type": "code",
   "execution_count": 28,
   "outputs": [
    {
     "name": "stdout",
     "output_type": "stream",
     "text": [
      "['Date Movie', 'I Could Never Be Your Woman', 'The Quiet American', 'Faintheart', \"Captain Corelli's Mandolin\"]\n",
      "['Nichts geht mehr', 'Little Monsters', 'WordWorld: Rocket to the Moon', 'The Brave Little Toaster', 'Baby Einstein: Neighborhood Animals']\n",
      "['10,000 BC', 'Big City', 'The Celestine Prophecy', 'Antarctica', 'Legends of the Fall']\n",
      "['I Could Never Be Your Woman', 'Inkheart', 'The Man Who Knew Too Much', 'Date Movie', 'Red Eye']\n",
      "['Two Brothers', 'Alpha and Omega', 'Bambi', 'Legends of the Fall', 'The Leopard Son']\n",
      "[\"A Midsummer Night's Dream\", 'Animal Farm', 'Faintheart', 'Bolero', 'Shrek 2']\n",
      "['The Nutty Professor', 'Dragonslayer', 'The Truth About Demons', 'House of Frankenstein', 'The Last Lear']\n",
      "['Bulletproof Monk', 'The Big Brawl', 'The Karate Kid', 'The Last Dragon', 'The Foot Fist Way']\n",
      "['Animal Farm', 'I Could Never Be Your Woman', \"Pooh's Grand Adventure: The Search for Christopher Robin\", 'Marley & Me', 'All Roads Lead Home']\n",
      "['Slither', 'Within the Woods', 'The Signal', 'The Hotel New Hampshire', 'Animal Farm']\n",
      "['The Lion King', 'Secondhand Lions', 'Animal Farm', 'The Wild', '10,000 BC']\n",
      "['Faintheart', 'Two Tigers', 'The Quiet American', 'Gracie', 'Charlotte Gray']\n",
      "['The Nutty Professor', 'Nichts geht mehr', \"Dr. Renault's Secret\", 'Harry Potter and the Goblet of Fire', 'The Wizard of Oz']\n",
      "['The Brave Little Toaster', 'Charlie and the Chocolate Factory', 'Legends of the Fall', 'Chocolat', 'The Go-Getter']\n",
      "['Message in a Bottle', 'The Notebook', 'Angel Eyes', 'The Quiet American', 'Dedication']\n",
      "['Disney Princess Enchanted Tales: Follow Your Dreams', 'Cinderella II: Dreams Come True', 'Sleeping Beauty', 'The Slipper and the Rose', 'Barbie of Swan Lake']\n",
      "['Kung Pow: Enter the Fist', 'Dragon: The Bruce Lee Story', 'Kung Fu Panda', 'Animal Farm', 'Kung Fu Panda: Secrets of the Furious Five']\n",
      "['Jurassic Park', '100 Million BC', 'The Land Before Time V: The Mysterious Island', 'The Lost World', 'Dinosaur']\n",
      "Score obtenu sur les synopsis de type descriptions : 0.2222222222222222\n",
      "['All Quiet on the Western Front', 'Alfie', 'The Best Years of Our Lives', 'The Jacket', 'Stop-Loss']\n",
      "['Kung Fu Panda', 'Dragon: The Bruce Lee Story', 'Kung Pow: Enter the Fist', 'The Forbidden Kingdom', 'Bulletproof Monk']\n",
      "['Like Minds', 'Menace II Society', '12 Angry Men', 'Too Young to Die?', '12 Angry Men']\n",
      "['The Last Mimzy', 'The Brave Little Toaster', 'Toy Story 3', 'Jonah: A VeggieTales Movie', 'Pinocchio']\n",
      "['Man in the Chair', 'Book of Shadows: Blair Witch 2', 'Salem Witch Trials', 'The Perfect Scary Movie', 'The Evil Dead']\n",
      "['DeVour', 'Scooby-Doo! and the Cyber Chase', 'The Gate', 'The Garbage Pail Kids Movie', 'Stay Alive']\n",
      "['Red Eye', 'Witless Protection', \"Don't Say a Word\", 'Taken', 'Tideland']\n",
      "['August Rush', 'The Little Drummer Boy', 'Mary Poppins', 'Lost Highway', 'Purple Rain']\n",
      "['The Quiet Earth', 'Against the Dark', 'I Am Legend', 'Extreme Measures', '28 Days Later']\n",
      "['The Lion King', 'The Wild', 'Secondhand Lions', 'The Chronicles of Narnia: Prince Caspian', 'Jason and the Argonauts']\n",
      "['Final Destination', 'The Pool', \"State's Evidence\", 'The Deaths of Ian Stone', 'Kill Theory']\n",
      "['The Jammed', 'Motor Psycho', 'The Hard Corps', 'Private Benjamin', 'Fear and Desire']\n",
      "['Charlie and the Chocolate Factory', 'Barcode', 'Stardust', 'Little Monsters', 'The Polar Express']\n",
      "['The Wizard of Oz', 'Harry Potter and the Goblet of Fire', \"Harry Potter and the Philosopher's Stone\", 'The Craft', 'Harry Potter and the Prisoner of Azkaban']\n",
      "['The Return of Jafar', 'Stardust', 'Sleeping Beauty', 'Frosty the Snowman', 'The Witches of Eastwick']\n",
      "['Dead Calm', 'Ocean of Dreams', 'Open Water 2: Adrift', 'Fling', 'Bitter Moon']\n",
      "['Jurassic Park', '100 Million BC', 'Sea Monsters: A Prehistoric Adventure', 'The Lost World: Jurassic Park', 'The Land Before Time']\n",
      "['Le Divorce', 'The Good Son', 'My Big Fat Greek Wedding', 'The Princess Diaries', 'Coming to America']\n",
      "['Kung Fu Panda', 'Bulletproof Monk', 'The Forbidden Kingdom', 'Dragon: The Bruce Lee Story', 'Street Fighter Alpha: Generations']\n",
      "Score obtenu sur les synopsis de type synopsis : 0.47368421052631576\n",
      "['I Could Never Be Your Woman', 'Zoo', 'Meat Love', 'Date Movie', 'The Deviants']\n",
      "['Animal Farm', 'The Brave Little Toaster', 'Toy Story 3', 'Barnyard', 'The Ghosts of Edendale']\n",
      "['Here Be Dragons', 'Dragonquest', \"It's Alive: The True Story of Frankenstein\", 'Animal Farm', 'Frankenstein and Me']\n",
      "['Taken', 'Cecil B. Demented', 'Red Eye', 'Witless Protection', 'Nichts geht mehr']\n",
      "['100 Girls', 'Nichts geht mehr', 'Harlow', 'I Could Never Be Your Woman', 'Date Movie']\n",
      "['The Princess Diaries', 'I Could Never Be Your Woman', 'The Slipper and the Rose', 'Sleeping Beauty', 'Disney Princess Enchanted Tales: Follow Your Dreams']\n",
      "['Rules of Engagement', 'Disaster Movie', 'The Hotel New Hampshire', 'September Dawn', 'Homeward Bound: The Incredible Journey']\n",
      "['The Lion King', 'Secondhand Lions', 'The Wild', '10,000 BC', 'I Could Never Be Your Woman']\n",
      "['I Could Never Be Your Woman', 'A Thousand Years of Good Prayers', 'Two Tigers', 'My Father the Hero', 'Date Movie']\n",
      "['Charlie and the Chocolate Factory', 'Flavors', 'Nichts geht mehr', 'The Brave Little Toaster', 'Willy Wonka & the Chocolate Factory']\n",
      "['Nichts geht mehr', 'Elephant', 'Harry Potter and the Order of the Phoenix', 'Kung Pow: Enter the Fist', 'Dark Ride']\n",
      "[\"A Midsummer Night's Dream\", 'Sleeping Beauty', 'The Little Mermaid', 'Date Movie', 'The Return of Jafar']\n",
      "['Dead Calm', 'Meat Love', 'Ocean of Dreams', \"Captain Corelli's Mandolin\", 'Angel Eyes']\n",
      "['100 Million BC', 'The Lost World', 'Jurassic Park', 'The Land Before Time V: The Mysterious Island', 'Frankenstein: A Cinematic Scrapbook']\n",
      "['I Could Never Be Your Woman', '100 Girls', 'The Woods', 'The Princess Diaries', 'Tideland']\n",
      "['Dragon: The Bruce Lee Story', 'Kung Pow: Enter the Fist', 'The Last Dragon', 'The Big Brawl', 'Big Stan']\n",
      "['I Could Never Be Your Woman', 'The Brave Little Toaster', 'Gloria', 'The Italian', 'The Ghosts of Edendale']\n",
      "Score obtenu sur les synopsis de type queries : 0.29411764705882354\n"
     ]
    }
   ],
   "source": [
    "for k,df in dfs.items():\n",
    "    print(f\"Score obtenu sur les synopsis de type {k} : {eval(k,df, model_2, 'FT')}\")"
   ],
   "metadata": {
    "collapsed": false
   }
  },
  {
   "cell_type": "code",
   "execution_count": null,
   "outputs": [],
   "source": [],
   "metadata": {
    "collapsed": false
   }
  }
 ],
 "metadata": {
  "kernelspec": {
   "display_name": "Python 3",
   "language": "python",
   "name": "python3"
  },
  "language_info": {
   "codemirror_mode": {
    "name": "ipython",
    "version": 2
   },
   "file_extension": ".py",
   "mimetype": "text/x-python",
   "name": "python",
   "nbconvert_exporter": "python",
   "pygments_lexer": "ipython2",
   "version": "2.7.6"
  }
 },
 "nbformat": 4,
 "nbformat_minor": 0
}
