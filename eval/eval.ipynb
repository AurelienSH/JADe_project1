{
 "cells": [
  {
   "cell_type": "code",
   "execution_count": 87,
   "outputs": [],
   "source": [
    "import pandas as pd\n",
    "import numpy as np\n",
    "from sklearn.feature_extraction.text import CountVectorizer\n",
    "from sklearn.metrics.pairwise import cosine_similarity\n",
    "import sys\n",
    "\n",
    "def combined_features(row):\n",
    "    return row['keywords']+\" \"+row['cast']+\" \"+row['genres']+\" \"+row['director']\n",
    "\n",
    "def get_index_from_title(title):\n",
    "    return df[df.title == title][\"index\"].values[0]\n",
    "\n",
    "def get_title_from_index(index):\n",
    "    if df[df.index == index][\"title\"].values.size:\n",
    "        return df[df.index == index][\"title\"].values[0]\n",
    "    return False\n",
    "\n",
    "df = pd.read_csv(\"movie_dataset.csv\")\n",
    "\n",
    "df_syn = pd.read_csv(\"../Data/movie_synopsis.csv\")\n",
    "\n",
    "movies_syn = set(df_syn['title'])\n",
    "\n",
    "movies_eval = set(df['title'])\n",
    "\n",
    "inter = movies_eval.intersection(movies_syn)\n",
    "\n",
    "for title in movies_eval:\n",
    "    if title not in inter:\n",
    "        df = df[df.title != title]\n",
    "\n",
    "\n",
    "features = ['keywords', 'cast', 'genres', 'director']\n",
    "for feature in features:\n",
    "    df[feature] = df[feature].fillna('')\n",
    "\n",
    "df[\"combined_features\"] = df.apply(combined_features, axis =1)\n",
    "\n",
    "cv = CountVectorizer()\n",
    "count_matrix = cv.fit_transform(df[\"combined_features\"])\n",
    "\n",
    "cosine_sim = cosine_similarity(count_matrix)\n",
    "\n",
    "def get_most_similar(movie_user_likes):\n",
    "    movie_index = get_index_from_title(movie_user_likes)\n",
    "\n",
    "    similar_movies = list(enumerate(cosine_sim[movie_index]))\n",
    "\n",
    "    sorted_similar_movies = sorted(similar_movies, key=lambda x: x[1], reverse=True)\n",
    "    titles = []\n",
    "    i=1\n",
    "    while len(titles)<10 and i<len(sorted_similar_movies):\n",
    "        if get_title_from_index(sorted_similar_movies[i][0]):\n",
    "            titles.append(get_title_from_index(sorted_similar_movies[i][0]))\n",
    "        i+=1\n",
    "    return titles"
   ],
   "metadata": {
    "collapsed": false
   }
  },
  {
   "cell_type": "code",
   "execution_count": null,
   "outputs": [],
   "source": [
    "get_most_similar(\"Dead Poets Society\")"
   ],
   "metadata": {
    "collapsed": false,
    "pycharm": {
     "is_executing": true
    }
   }
  },
  {
   "cell_type": "code",
   "execution_count": 98,
   "outputs": [
    {
     "data": {
      "text/plain": "'Eccentric consulting detective, Sherlock Holmes and Doctor John Watson battle to bring down a new nemesis and unravel a deadly plot that could destroy England.'"
     },
     "execution_count": 98,
     "metadata": {},
     "output_type": "execute_result"
    }
   ],
   "source": [
    "df[df.title == \"Sherlock Holmes\"][\"overview\"].values[0]"
   ],
   "metadata": {
    "collapsed": false
   }
  },
  {
   "cell_type": "code",
   "execution_count": 95,
   "outputs": [],
   "source": [
    "with open(\"caca\", 'w') as f:\n",
    "    for film in inter:\n",
    "        print(film, file=f)"
   ],
   "metadata": {
    "collapsed": false
   }
  },
  {
   "cell_type": "code",
   "execution_count": 96,
   "outputs": [
    {
     "name": "stdout",
     "output_type": "stream",
     "text": [
      "caca              eval.py           movie_dataset.csv\r\n",
      "eval.ipynb        ideas\r\n"
     ]
    }
   ],
   "source": [
    "!ls"
   ],
   "metadata": {
    "collapsed": false
   }
  },
  {
   "cell_type": "code",
   "execution_count": null,
   "outputs": [],
   "source": [],
   "metadata": {
    "collapsed": false
   }
  }
 ],
 "metadata": {
  "kernelspec": {
   "display_name": "Python 3",
   "language": "python",
   "name": "python3"
  },
  "language_info": {
   "codemirror_mode": {
    "name": "ipython",
    "version": 2
   },
   "file_extension": ".py",
   "mimetype": "text/x-python",
   "name": "python",
   "nbconvert_exporter": "python",
   "pygments_lexer": "ipython2",
   "version": "2.7.6"
  }
 },
 "nbformat": 4,
 "nbformat_minor": 0
}
