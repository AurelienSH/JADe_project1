{
 "cells": [
  {
   "attachments": {},
   "cell_type": "markdown",
   "metadata": {},
   "source": [
    "# Demo : utilisation de l'API (V2)\n",
    "\n",
    "Lancement de l'API : \n",
    "\n",
    "```bash\n",
    "cd JADe_project1/app/src/\n",
    "uvicorn main:app\n",
    "```"
   ]
  },
  {
   "cell_type": "code",
   "execution_count": 20,
   "metadata": {},
   "outputs": [],
   "source": [
    "import requests"
   ]
  },
  {
   "attachments": {},
   "cell_type": "markdown",
   "metadata": {},
   "source": [
    "## Chercher des oeuvres similaires"
   ]
  },
  {
   "cell_type": "code",
   "execution_count": 15,
   "metadata": {},
   "outputs": [
    {
     "data": {
      "text/plain": [
       "[{'title': 'The Deviants',\n",
       "  'content': 'A comedy about a matchmaker for people with hilarious dating problems.'},\n",
       " {'title': 'Can I Do It Till I Need Glasses?',\n",
       "  'content': 'A comedy comprised of short sexually suggestive skits.'},\n",
       " {'title': 'Extreme Movie',\n",
       "  'content': 'A sketch comedy movie about the joys and embarrassments of teen sex. But mostly the embarrassments.'},\n",
       " {'title': 'Nichts geht mehr',\n",
       "  'content': 'Comedy movie that deals with typical behavior of young teens.'},\n",
       " {'title': 'Freebird',\n",
       "  'content': 'A Rock and Roll Road Movie Comedy set in Wales'}]"
      ]
     },
     "execution_count": 15,
     "metadata": {},
     "output_type": "execute_result"
    }
   ],
   "source": [
    "headers = {\n",
    "    \"accept\": \"application/json\",\n",
    "    \"Content-Type\": \"application/json\"\n",
    "}\n",
    "\n",
    "query = {\n",
    "    \"content\": \"a funny movie\"\n",
    "}\n",
    "\n",
    "response = requests.post(\"http://127.0.0.1:8000/api/v2/similar-works/\", \n",
    "                         headers=headers, \n",
    "                         json=query)\n",
    "\n",
    "response.json()"
   ]
  },
  {
   "attachments": {},
   "cell_type": "markdown",
   "metadata": {},
   "source": [
    "## Laisser un avis sur un résultat"
   ]
  },
  {
   "cell_type": "code",
   "execution_count": 25,
   "metadata": {},
   "outputs": [
    {
     "data": {
      "text/plain": [
       "{'title': 'The Deviants',\n",
       " 'synopsis': 'A comedy about a matchmaker for people with hilarious dating problems.',\n",
       " 'query': 'a funny movie',\n",
       " 'score': 'pos',\n",
       " 'id': 9}"
      ]
     },
     "execution_count": 25,
     "metadata": {},
     "output_type": "execute_result"
    }
   ],
   "source": [
    "headers = {\n",
    "    \"accept\": \"application/json\",\n",
    "    \"Content-Type\": \"application/json\"\n",
    "}\n",
    "\n",
    "review = {\n",
    "    \"title\": \"The Deviants\",\n",
    "    \"synopsis\": \"A comedy about a matchmaker for people with hilarious dating problems.\",\n",
    "    \"query\": \"a funny movie\",\n",
    "    \"score\": \"pos\"  # Review positive (\"neg\" pour négative)\n",
    "}\n",
    "\n",
    "response = requests.post(\"http://127.0.0.1:8000/api/v2/reviews/\", \n",
    "                         headers=headers, \n",
    "                         json=review)\n",
    "\n",
    "response.json()  # Review effectivement ajoutée à la BDD"
   ]
  }
 ],
 "metadata": {
  "kernelspec": {
   "display_name": ".venvInterfacesWeb",
   "language": "python",
   "name": "python3"
  },
  "language_info": {
   "codemirror_mode": {
    "name": "ipython",
    "version": 3
   },
   "file_extension": ".py",
   "mimetype": "text/x-python",
   "name": "python",
   "nbconvert_exporter": "python",
   "pygments_lexer": "ipython3",
   "version": "3.10.10"
  },
  "orig_nbformat": 4
 },
 "nbformat": 4,
 "nbformat_minor": 2
}
